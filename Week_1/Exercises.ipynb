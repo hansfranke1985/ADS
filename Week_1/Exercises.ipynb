{
 "cells": [
  {
   "cell_type": "code",
   "execution_count": 1,
   "metadata": {},
   "outputs": [],
   "source": [
    "import pandas as pd\n",
    "import csv\n",
    "import numpy as np\n",
    "import matplotlib.pyplot as plt"
   ]
  },
  {
   "cell_type": "code",
   "execution_count": 3,
   "metadata": {},
   "outputs": [],
   "source": [
    "# Importing the datasets\n",
    "bbc = pd.read_csv(r\"C:\\Users\\hansf\\Documents\\ADS_2020\\DataWrangling\\datasets\\bbc.csv\")\n",
    "eteam = bbc = pd.read_csv(r\"C:\\Users\\hansf\\Documents\\ADS_2020\\DataWrangling\\datasets\\eteam.csv\", encoding='iso8859_2')\n",
    "game = pd.read_csv(r\"C:\\Users\\hansf\\Documents\\ADS_2020\\DataWrangling\\datasets\\game.csv\")\n",
    "goal = pd.read_csv(r\"C:\\Users\\hansf\\Documents\\ADS_2020\\DataWrangling\\datasets\\goal.csv\", encoding='iso8859_2')\n",
    "movies = pd.read_csv(r\"C:\\Users\\hansf\\Documents\\ADS_2020\\DataWrangling\\datasets\\movies.csv\")\n",
    "world = pd.read_csv(r\"C:\\Users\\hansf\\Documents\\ADS_2020\\DataWrangling\\datasets\\world.csv\", encoding='iso8859_2')\n",
    "nobel = pd.read_csv(r\"C:\\Users\\hansf\\Documents\\ADS_2020\\DataWrangling\\datasets\\nobel.csv\", encoding='iso8859_2')\n"
   ]
  },
  {
   "cell_type": "code",
   "execution_count": null,
   "metadata": {},
   "outputs": [],
   "source": [
    "In this lab, we will use the 7 tables that I added on teams. Note: The\n",
    "queries that will write might not return records. Focus on writing the query\n",
    "correctly. Write the queries in both SQL and Python unless otherwise stated\n",
    "explicitly.\n",
    "Question 1.\n",
    "If you know that in the world table, the continent of the countries Armenia,\n",
    "Azerbaijan, Russia, Georgia and Turkey is not Europe. Write a query that\n",
    "returns the total area of the European countries after adding the area of\n",
    "these countries.\n",
    "Question 2.\n",
    "Write a query that returns the names of the players in the German team who\n",
    "scored at least one goal with the name of the stadium where they scored the\n",
    "goals.\n",
    "Question 3.\n",
    "Write a query which would show the players and their teams for those who\n",
    "have scored against France (FRA) in Donbass Arena.\n",
    "Question 4.\n",
    "Write a query that displays the name and the the average population of the\n",
    "continent in the world table.\n",
    "Question 5.\n",
    "Write a query to return the number of missing values in each column of the\n",
    "world table [only in Python for now]. Use the world table.\n",
    "Question 6.\n",
    "Write a query that lists the countries with no missing values in their gdp.\n",
    "Use the world table.\n",
    "1\n",
    "Question 7.\n",
    "Write a query that lists the countries with no missing values in any of their\n",
    "attributes [only in Python for now]. Use the world table.\n",
    "Question 8.\n",
    "Write a query to calculate the average budget for movies produced in USA\n",
    "since 2010 (incl. 2010). Use the movies table.\n",
    "Question 9.\n",
    "Write a query to count the number of unique directors by names. Use the\n",
    "movies table.\n",
    "Question 10.\n",
    "Write a query that returns the years in which no Nobel price is given for\n",
    "physics. Use the nobel table.\n",
    "Question 11.\n",
    "Write a query to count the number of Nobel price winners from Netherlands.\n",
    "Use nobel table.\n",
    "Question 12.\n",
    "Write a query to find the number of Nobel price winners of each country.\n",
    "Use nobel table.\n"
   ]
  },
  {
   "cell_type": "markdown",
   "metadata": {},
   "source": [
    "## question 1\n",
    "\n",
    "If you know that in the world table, the continent of the countries Armenia,\n",
    "Azerbaijan, Russia, Georgia and Turkey is not Europe. Write a query that\n",
    "returns the total area of the European countries after adding the area of\n",
    "these countries."
   ]
  },
  {
   "cell_type": "code",
   "execution_count": 6,
   "metadata": {},
   "outputs": [
    {
     "data": {
      "text/html": [
       "<div>\n",
       "<style scoped>\n",
       "    .dataframe tbody tr th:only-of-type {\n",
       "        vertical-align: middle;\n",
       "    }\n",
       "\n",
       "    .dataframe tbody tr th {\n",
       "        vertical-align: top;\n",
       "    }\n",
       "\n",
       "    .dataframe thead th {\n",
       "        text-align: right;\n",
       "    }\n",
       "</style>\n",
       "<table border=\"1\" class=\"dataframe\">\n",
       "  <thead>\n",
       "    <tr style=\"text-align: right;\">\n",
       "      <th></th>\n",
       "      <th>name</th>\n",
       "      <th>continent</th>\n",
       "      <th>area</th>\n",
       "      <th>population</th>\n",
       "      <th>gdp</th>\n",
       "      <th>capital</th>\n",
       "      <th>tld</th>\n",
       "      <th>flag</th>\n",
       "    </tr>\n",
       "  </thead>\n",
       "  <tbody>\n",
       "    <tr>\n",
       "      <th>0</th>\n",
       "      <td>Afghanistan</td>\n",
       "      <td>Asia</td>\n",
       "      <td>652230</td>\n",
       "      <td>25500100</td>\n",
       "      <td>2.036400e+10</td>\n",
       "      <td>Kabul</td>\n",
       "      <td>.af</td>\n",
       "      <td>//upload.wikimedia.org/wikipedia/commons/9/9a/...</td>\n",
       "    </tr>\n",
       "    <tr>\n",
       "      <th>1</th>\n",
       "      <td>Albania</td>\n",
       "      <td>Europe</td>\n",
       "      <td>28748</td>\n",
       "      <td>2821977</td>\n",
       "      <td>1.204400e+10</td>\n",
       "      <td>Tirana</td>\n",
       "      <td>.al</td>\n",
       "      <td>//upload.wikimedia.org/wikipedia/commons/3/36/...</td>\n",
       "    </tr>\n",
       "    <tr>\n",
       "      <th>2</th>\n",
       "      <td>Algeria</td>\n",
       "      <td>Africa</td>\n",
       "      <td>2381741</td>\n",
       "      <td>38700000</td>\n",
       "      <td>2.070210e+11</td>\n",
       "      <td>Algiers</td>\n",
       "      <td>.dz</td>\n",
       "      <td>//upload.wikimedia.org/wikipedia/commons/7/77/...</td>\n",
       "    </tr>\n",
       "    <tr>\n",
       "      <th>3</th>\n",
       "      <td>Andorra</td>\n",
       "      <td>Europe</td>\n",
       "      <td>468</td>\n",
       "      <td>76098</td>\n",
       "      <td>3.222000e+09</td>\n",
       "      <td>Andorra la Vella</td>\n",
       "      <td>.ad</td>\n",
       "      <td>//upload.wikimedia.org/wikipedia/commons/1/19/...</td>\n",
       "    </tr>\n",
       "    <tr>\n",
       "      <th>4</th>\n",
       "      <td>Angola</td>\n",
       "      <td>Africa</td>\n",
       "      <td>1246700</td>\n",
       "      <td>19183590</td>\n",
       "      <td>1.163080e+11</td>\n",
       "      <td>Luanda</td>\n",
       "      <td>.ao</td>\n",
       "      <td>//upload.wikimedia.org/wikipedia/commons/9/9d/...</td>\n",
       "    </tr>\n",
       "  </tbody>\n",
       "</table>\n",
       "</div>"
      ],
      "text/plain": [
       "          name continent     area  population           gdp           capital  \\\n",
       "0  Afghanistan      Asia   652230    25500100  2.036400e+10             Kabul   \n",
       "1      Albania    Europe    28748     2821977  1.204400e+10            Tirana   \n",
       "2      Algeria    Africa  2381741    38700000  2.070210e+11           Algiers   \n",
       "3      Andorra    Europe      468       76098  3.222000e+09  Andorra la Vella   \n",
       "4       Angola    Africa  1246700    19183590  1.163080e+11            Luanda   \n",
       "\n",
       "   tld                                               flag  \n",
       "0  .af  //upload.wikimedia.org/wikipedia/commons/9/9a/...  \n",
       "1  .al  //upload.wikimedia.org/wikipedia/commons/3/36/...  \n",
       "2  .dz  //upload.wikimedia.org/wikipedia/commons/7/77/...  \n",
       "3  .ad  //upload.wikimedia.org/wikipedia/commons/1/19/...  \n",
       "4  .ao  //upload.wikimedia.org/wikipedia/commons/9/9d/...  "
      ]
     },
     "execution_count": 6,
     "metadata": {},
     "output_type": "execute_result"
    }
   ],
   "source": [
    "world.head()"
   ]
  },
  {
   "cell_type": "code",
   "execution_count": 7,
   "metadata": {},
   "outputs": [],
   "source": [
    "# list to countries to add in Europe\n",
    "countries = ['Armenia', \"Azerbaijan\", \"Russia\", \"Georgia\", \"Turkey\"]\n"
   ]
  },
  {
   "cell_type": "code",
   "execution_count": 48,
   "metadata": {},
   "outputs": [
    {
     "data": {
      "text/plain": [
       "26809176"
      ]
     },
     "execution_count": 48,
     "metadata": {},
     "output_type": "execute_result"
    }
   ],
   "source": [
    "europe = sum(world['area'][world['continent']=='Europe']) # area of europe\n",
    "others = sum(world['area'][world['name'].isin(countries)]) #area of other contries\n",
    "europe + others"
   ]
  },
  {
   "cell_type": "markdown",
   "metadata": {},
   "source": [
    "## Question 2.\n",
    "Write a query that returns the names of the players in the German team who\n",
    "scored at least one goal with the name of the stadium where they scored the\n",
    "goals."
   ]
  },
  {
   "cell_type": "code",
   "execution_count": null,
   "metadata": {},
   "outputs": [],
   "source": []
  },
  {
   "cell_type": "markdown",
   "metadata": {},
   "source": [
    "## Question 3.\n",
    "Write a query which would show the players and their teams for those who\n",
    "have scored against France (FRA) in Donbass Arena."
   ]
  },
  {
   "cell_type": "code",
   "execution_count": null,
   "metadata": {},
   "outputs": [],
   "source": []
  }
 ],
 "metadata": {
  "kernelspec": {
   "display_name": "Python 3",
   "language": "python",
   "name": "python3"
  },
  "language_info": {
   "codemirror_mode": {
    "name": "ipython",
    "version": 3
   },
   "file_extension": ".py",
   "mimetype": "text/x-python",
   "name": "python",
   "nbconvert_exporter": "python",
   "pygments_lexer": "ipython3",
   "version": "3.8.3"
  }
 },
 "nbformat": 4,
 "nbformat_minor": 4
}
