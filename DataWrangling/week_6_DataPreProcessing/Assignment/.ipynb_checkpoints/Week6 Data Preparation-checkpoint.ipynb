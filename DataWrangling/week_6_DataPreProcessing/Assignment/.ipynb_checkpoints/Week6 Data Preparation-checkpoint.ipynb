{
 "cells": [
  {
   "cell_type": "markdown",
   "metadata": {},
   "source": [
    "# Working with Missing data in pandas"
   ]
  },
  {
   "cell_type": "code",
   "execution_count": 1,
   "metadata": {},
   "outputs": [],
   "source": [
    "import pandas as pd\n",
    "import numpy as np"
   ]
  },
  {
   "cell_type": "markdown",
   "metadata": {},
   "source": [
    "We begin by defining a pandas dataframe that contains some cells with missing values. Note that pandas, in addition to allowing us to create dataframes from a variety of files, also supports explicit declaration."
   ]
  },
  {
   "cell_type": "code",
   "execution_count": 106,
   "metadata": {},
   "outputs": [],
   "source": [
    "incomplete_df = pd.DataFrame({'id': [1,2,3,2,2,3,1,1,1,2,4],\n",
    "                              'type': ['one', 'one', 'two', 'three', 'two', 'three', 'one', 'two', 'one', 'three','one'],\n",
    "                              'amount': [345,928,np.NAN,645,113,942,np.NAN,539,np.NAN,814,np.NAN] \n",
    "                             }, columns=['id','type','amount'])"
   ]
  },
  {
   "cell_type": "markdown",
   "metadata": {},
   "source": [
    "Column 'amount' is the only one with missing values. Now we display the dataframe"
   ]
  },
  {
   "cell_type": "code",
   "execution_count": 3,
   "metadata": {},
   "outputs": [
    {
     "data": {
      "text/html": [
       "<div>\n",
       "<style scoped>\n",
       "    .dataframe tbody tr th:only-of-type {\n",
       "        vertical-align: middle;\n",
       "    }\n",
       "\n",
       "    .dataframe tbody tr th {\n",
       "        vertical-align: top;\n",
       "    }\n",
       "\n",
       "    .dataframe thead th {\n",
       "        text-align: right;\n",
       "    }\n",
       "</style>\n",
       "<table border=\"1\" class=\"dataframe\">\n",
       "  <thead>\n",
       "    <tr style=\"text-align: right;\">\n",
       "      <th></th>\n",
       "      <th>id</th>\n",
       "      <th>type</th>\n",
       "      <th>amount</th>\n",
       "    </tr>\n",
       "  </thead>\n",
       "  <tbody>\n",
       "    <tr>\n",
       "      <th>0</th>\n",
       "      <td>1</td>\n",
       "      <td>one</td>\n",
       "      <td>345.0</td>\n",
       "    </tr>\n",
       "    <tr>\n",
       "      <th>1</th>\n",
       "      <td>2</td>\n",
       "      <td>one</td>\n",
       "      <td>928.0</td>\n",
       "    </tr>\n",
       "    <tr>\n",
       "      <th>2</th>\n",
       "      <td>3</td>\n",
       "      <td>two</td>\n",
       "      <td>NaN</td>\n",
       "    </tr>\n",
       "    <tr>\n",
       "      <th>3</th>\n",
       "      <td>2</td>\n",
       "      <td>three</td>\n",
       "      <td>645.0</td>\n",
       "    </tr>\n",
       "    <tr>\n",
       "      <th>4</th>\n",
       "      <td>2</td>\n",
       "      <td>two</td>\n",
       "      <td>113.0</td>\n",
       "    </tr>\n",
       "    <tr>\n",
       "      <th>5</th>\n",
       "      <td>3</td>\n",
       "      <td>three</td>\n",
       "      <td>942.0</td>\n",
       "    </tr>\n",
       "    <tr>\n",
       "      <th>6</th>\n",
       "      <td>1</td>\n",
       "      <td>one</td>\n",
       "      <td>NaN</td>\n",
       "    </tr>\n",
       "    <tr>\n",
       "      <th>7</th>\n",
       "      <td>1</td>\n",
       "      <td>two</td>\n",
       "      <td>539.0</td>\n",
       "    </tr>\n",
       "    <tr>\n",
       "      <th>8</th>\n",
       "      <td>1</td>\n",
       "      <td>one</td>\n",
       "      <td>NaN</td>\n",
       "    </tr>\n",
       "    <tr>\n",
       "      <th>9</th>\n",
       "      <td>2</td>\n",
       "      <td>three</td>\n",
       "      <td>814.0</td>\n",
       "    </tr>\n",
       "    <tr>\n",
       "      <th>10</th>\n",
       "      <td>4</td>\n",
       "      <td>one</td>\n",
       "      <td>NaN</td>\n",
       "    </tr>\n",
       "  </tbody>\n",
       "</table>\n",
       "</div>"
      ],
      "text/plain": [
       "    id   type  amount\n",
       "0    1    one   345.0\n",
       "1    2    one   928.0\n",
       "2    3    two     NaN\n",
       "3    2  three   645.0\n",
       "4    2    two   113.0\n",
       "5    3  three   942.0\n",
       "6    1    one     NaN\n",
       "7    1    two   539.0\n",
       "8    1    one     NaN\n",
       "9    2  three   814.0\n",
       "10   4    one     NaN"
      ]
     },
     "execution_count": 3,
     "metadata": {},
     "output_type": "execute_result"
    }
   ],
   "source": [
    "#TODO: display the dataframe\n",
    "incomplete_df"
   ]
  },
  {
   "cell_type": "markdown",
   "metadata": {},
   "source": [
    "Recall that summary statistics and arithmetic with missing data is natively supported by pandas. Let's define two series, both containing some missing values."
   ]
  },
  {
   "cell_type": "code",
   "execution_count": 4,
   "metadata": {},
   "outputs": [],
   "source": [
    "A = incomplete_df['amount']\n",
    "B = pd.Series(data=[np.NAN,125,335,345,312,np.NAN,np.NAN,129,551,800,222])"
   ]
  },
  {
   "cell_type": "code",
   "execution_count": 5,
   "metadata": {},
   "outputs": [
    {
     "name": "stdout",
     "output_type": "stream",
     "text": [
      "0     345.0\n",
      "1     928.0\n",
      "2       NaN\n",
      "3     645.0\n",
      "4     113.0\n",
      "5     942.0\n",
      "6       NaN\n",
      "7     539.0\n",
      "8       NaN\n",
      "9     814.0\n",
      "10      NaN\n",
      "Name: amount, dtype: float64\n",
      "\n",
      "\n",
      "0       NaN\n",
      "1     125.0\n",
      "2     335.0\n",
      "3     345.0\n",
      "4     312.0\n",
      "5       NaN\n",
      "6       NaN\n",
      "7     129.0\n",
      "8     551.0\n",
      "9     800.0\n",
      "10    222.0\n",
      "dtype: float64\n"
     ]
    }
   ],
   "source": [
    "#TODO: print the content of A\n",
    "print(A)\n",
    "print ('\\n')\n",
    "\n",
    "\n",
    "#TODO: print the content of B\n",
    "print(B)\n"
   ]
  },
  {
   "cell_type": "markdown",
   "metadata": {},
   "source": [
    "The mean is computed normally and missing values are ignored:"
   ]
  },
  {
   "cell_type": "code",
   "execution_count": 10,
   "metadata": {},
   "outputs": [
    {
     "name": "stdout",
     "output_type": "stream",
     "text": [
      "A : Mean = 618.0\n"
     ]
    }
   ],
   "source": [
    "# TODO: Compute and print the mean value of A\n",
    "print(\"A : Mean =\" , A.mean())"
   ]
  },
  {
   "cell_type": "markdown",
   "metadata": {},
   "source": [
    "Min, Max, STD and Variance all work even when data are missing:"
   ]
  },
  {
   "cell_type": "code",
   "execution_count": 11,
   "metadata": {},
   "outputs": [
    {
     "data": {
      "text/plain": [
       "count      8.000000\n",
       "mean     352.375000\n",
       "std      226.904598\n",
       "min      125.000000\n",
       "25%      198.750000\n",
       "50%      323.500000\n",
       "75%      396.500000\n",
       "max      800.000000\n",
       "dtype: float64"
      ]
     },
     "execution_count": 11,
     "metadata": {},
     "output_type": "execute_result"
    }
   ],
   "source": [
    "# TDOD: Compute and display the min, max, standard deviation and variance of B\n",
    "B.describe()\n"
   ]
  },
  {
   "cell_type": "code",
   "execution_count": 13,
   "metadata": {},
   "outputs": [
    {
     "data": {
      "text/plain": [
       "51485.69642857143"
      ]
     },
     "execution_count": 13,
     "metadata": {},
     "output_type": "execute_result"
    }
   ],
   "source": [
    "#Variance\n",
    "B.var()"
   ]
  },
  {
   "cell_type": "markdown",
   "metadata": {},
   "source": [
    "We can also perform element-wise arithmetic operations between series with missing data. Note that by definition the result of any operation that involves missing values is NaN."
   ]
  },
  {
   "cell_type": "code",
   "execution_count": 25,
   "metadata": {},
   "outputs": [
    {
     "name": "stdout",
     "output_type": "stream",
     "text": [
      "0   |   345.0   |   nan   |   nan\n",
      "1   |   928.0   |   125.0   |   1053.0\n",
      "2   |   nan   |   335.0   |   nan\n",
      "3   |   645.0   |   345.0   |   990.0\n",
      "4   |   113.0   |   312.0   |   425.0\n",
      "5   |   942.0   |   nan   |   nan\n",
      "6   |   nan   |   nan   |   nan\n",
      "7   |   539.0   |   129.0   |   668.0\n",
      "8   |   nan   |   551.0   |   nan\n",
      "9   |   814.0   |   800.0   |   1614.0\n",
      "10   |   nan   |   222.0   |   nan\n"
     ]
    }
   ],
   "source": [
    "# TODO: Perform element-wise addition between the values in A and B\n",
    "C = A + B\n",
    "\n",
    "for i in range(0, len(C)):\n",
    "    print(i, \"  |  \", A[i],\"  |  \", B[i],\"  |  \", C[i])"
   ]
  },
  {
   "cell_type": "markdown",
   "metadata": {},
   "source": [
    "### Filling missing values"
   ]
  },
  {
   "cell_type": "markdown",
   "metadata": {},
   "source": [
    "Recall that pandas has a function that allows you to drop any rows in a dataframe (or elements in a series) that contain a missing value."
   ]
  },
  {
   "cell_type": "code",
   "execution_count": 28,
   "metadata": {},
   "outputs": [
    {
     "name": "stdout",
     "output_type": "stream",
     "text": [
      "Original dataframe \n",
      " 0     345.0\n",
      "1     928.0\n",
      "2       NaN\n",
      "3     645.0\n",
      "4     113.0\n",
      "5     942.0\n",
      "6       NaN\n",
      "7     539.0\n",
      "8       NaN\n",
      "9     814.0\n",
      "10      NaN\n",
      "Name: amount, dtype: float64\n",
      "\n",
      " \n",
      "\n",
      "Removed Null/NAN \n",
      " 0    345.0\n",
      "1    928.0\n",
      "3    645.0\n",
      "4    113.0\n",
      "5    942.0\n",
      "7    539.0\n",
      "9    814.0\n",
      "Name: amount, dtype: float64\n"
     ]
    }
   ],
   "source": [
    "# TODO: Print the values of attribute A before removing the null values\n",
    "print(\"Original dataframe \\n\", A)\n",
    "print(\"\\n \\n\")\n",
    "# TODO: now, print the values of A but without the null values \n",
    "print(\"Removed Null/NAN \\n\", A.dropna())\n"
   ]
  },
  {
   "cell_type": "markdown",
   "metadata": {},
   "source": [
    "However, very often you may wish to fill in those missing values rather than simply dropping them. Of course, pandas also has that functionality. For example, we could fill missing values with a scalar number, as shown below."
   ]
  },
  {
   "cell_type": "code",
   "execution_count": 30,
   "metadata": {},
   "outputs": [
    {
     "data": {
      "text/plain": [
       "0     345.0\n",
       "1     928.0\n",
       "2     -99.0\n",
       "3     645.0\n",
       "4     113.0\n",
       "5     942.0\n",
       "6     -99.0\n",
       "7     539.0\n",
       "8     -99.0\n",
       "9     814.0\n",
       "10    -99.0\n",
       "Name: amount, dtype: float64"
      ]
     },
     "execution_count": 30,
     "metadata": {},
     "output_type": "execute_result"
    }
   ],
   "source": [
    "# TODO: replace the missing value with -99\n",
    "A.fillna(-99)"
   ]
  },
  {
   "cell_type": "markdown",
   "metadata": {},
   "source": [
    "That actually works with any data type."
   ]
  },
  {
   "cell_type": "code",
   "execution_count": 31,
   "metadata": {},
   "outputs": [
    {
     "data": {
      "text/plain": [
       "0        345\n",
       "1        928\n",
       "2     unkown\n",
       "3        645\n",
       "4        113\n",
       "5        942\n",
       "6     unkown\n",
       "7        539\n",
       "8     unkown\n",
       "9        814\n",
       "10    unkown\n",
       "Name: amount, dtype: object"
      ]
     },
     "execution_count": 31,
     "metadata": {},
     "output_type": "execute_result"
    }
   ],
   "source": [
    "# TODO: fill the missing values with the string 'unknown'\n",
    "A.fillna(\"unkown\")"
   ]
  },
  {
   "cell_type": "markdown",
   "metadata": {},
   "source": [
    "As such, we can use this functionality to fill in the gaps with the average value computed across the non-missing values."
   ]
  },
  {
   "cell_type": "code",
   "execution_count": 33,
   "metadata": {},
   "outputs": [
    {
     "data": {
      "text/plain": [
       "0     345.0\n",
       "1     928.0\n",
       "2     618.0\n",
       "3     645.0\n",
       "4     113.0\n",
       "5     942.0\n",
       "6     618.0\n",
       "7     539.0\n",
       "8     618.0\n",
       "9     814.0\n",
       "10    618.0\n",
       "Name: amount, dtype: float64"
      ]
     },
     "execution_count": 33,
     "metadata": {},
     "output_type": "execute_result"
    }
   ],
   "source": [
    "# TODO: replace the missing values with the average value of the non-missing values\n",
    "A.fillna(A.mean())\n"
   ]
  },
  {
   "cell_type": "markdown",
   "metadata": {},
   "source": [
    "Even better, if we want to fill in the gaps with mean values of corresponding *id's* (recall our initial dataframe printed below), the following two lines of code perform that seemingly complex task."
   ]
  },
  {
   "cell_type": "code",
   "execution_count": 157,
   "metadata": {},
   "outputs": [
    {
     "name": "stdout",
     "output_type": "stream",
     "text": [
      "avg means of each id     amount\n",
      "id        \n",
      "1    442.0\n",
      "2    625.0\n",
      "3    942.0\n",
      "4      NaN\n",
      "\n",
      " \n",
      "\n",
      "Original DF \n",
      "     id   type  amount\n",
      "0    1    one   345.0\n",
      "1    2    one   928.0\n",
      "2    3    two     NaN\n",
      "3    2  three   645.0\n",
      "4    2    two   113.0\n",
      "5    3  three   942.0\n",
      "6    1    one     NaN\n",
      "7    1    two   539.0\n",
      "8    1    one     NaN\n",
      "9    2  three   814.0\n",
      "10   4    one     NaN\n",
      "\n",
      " \n",
      "\n",
      "Df w/o missing values \n",
      "     id   type  amount\n",
      "0    1    one   345.0\n",
      "1    2    one   928.0\n",
      "2    3    two   942.0\n",
      "3    2  three   645.0\n",
      "4    2    two   113.0\n",
      "5    3  three   942.0\n",
      "6    1    one   442.0\n",
      "7    1    two   539.0\n",
      "8    1    one   442.0\n",
      "9    2  three   814.0\n",
      "10   4    one     NaN\n"
     ]
    },
    {
     "name": "stderr",
     "output_type": "stream",
     "text": [
      "<ipython-input-157-4f2efc4fb625>:12: SettingWithCopyWarning: \n",
      "A value is trying to be set on a copy of a slice from a DataFrame\n",
      "\n",
      "See the caveats in the documentation: https://pandas.pydata.org/pandas-docs/stable/user_guide/indexing.html#returning-a-view-versus-a-copy\n",
      "  df['amount'][i] = avg.loc[id1] #change value of ID index i, with value from that avg\n"
     ]
    }
   ],
   "source": [
    "# Fill in gaps in the 'amount' column with means obtained from corresponding id's in the first column\n",
    "df = incomplete_df.copy() # always use copy, to avoid changes reflects in both dfs\n",
    "\n",
    "avg = df.groupby(['id']).mean() # mean grouped by ID\n",
    "\n",
    "\n",
    "# Completing missing values in column Amnount within average values from ID\n",
    "for i in range(len(df)):\n",
    "    if pd.isnull(df['amount'][i]) == True:\n",
    "        id1 = df.loc[i, 'id'] #look for index position (ID`s number)\n",
    "       \n",
    "        df['amount'][i] = avg.loc[id1] #change value of ID index i, with value from that avg\n",
    "\n",
    "#TODO: display the dataframe. What do you see?\n",
    "# ANswer: id 4 dont have any value, so we can`t use the mean.\n",
    "print(\"avg means of each id\", avg)\n",
    "print(\"\\n \\n\")\n",
    "print(\"Original DF \\n\", incomplete_df)\n",
    "print(\"\\n \\n\")\n",
    "print(\"Df w/o missing values \\n\", df)\n"
   ]
  },
  {
   "cell_type": "code",
   "execution_count": 159,
   "metadata": {},
   "outputs": [
    {
     "data": {
      "text/html": [
       "<div>\n",
       "<style scoped>\n",
       "    .dataframe tbody tr th:only-of-type {\n",
       "        vertical-align: middle;\n",
       "    }\n",
       "\n",
       "    .dataframe tbody tr th {\n",
       "        vertical-align: top;\n",
       "    }\n",
       "\n",
       "    .dataframe thead th {\n",
       "        text-align: right;\n",
       "    }\n",
       "</style>\n",
       "<table border=\"1\" class=\"dataframe\">\n",
       "  <thead>\n",
       "    <tr style=\"text-align: right;\">\n",
       "      <th></th>\n",
       "      <th>id</th>\n",
       "      <th>type</th>\n",
       "      <th>amount</th>\n",
       "    </tr>\n",
       "  </thead>\n",
       "  <tbody>\n",
       "    <tr>\n",
       "      <th>0</th>\n",
       "      <td>1</td>\n",
       "      <td>one</td>\n",
       "      <td>345.0</td>\n",
       "    </tr>\n",
       "    <tr>\n",
       "      <th>1</th>\n",
       "      <td>2</td>\n",
       "      <td>one</td>\n",
       "      <td>928.0</td>\n",
       "    </tr>\n",
       "    <tr>\n",
       "      <th>2</th>\n",
       "      <td>3</td>\n",
       "      <td>two</td>\n",
       "      <td>942.0</td>\n",
       "    </tr>\n",
       "    <tr>\n",
       "      <th>3</th>\n",
       "      <td>2</td>\n",
       "      <td>three</td>\n",
       "      <td>645.0</td>\n",
       "    </tr>\n",
       "    <tr>\n",
       "      <th>4</th>\n",
       "      <td>2</td>\n",
       "      <td>two</td>\n",
       "      <td>113.0</td>\n",
       "    </tr>\n",
       "    <tr>\n",
       "      <th>5</th>\n",
       "      <td>3</td>\n",
       "      <td>three</td>\n",
       "      <td>942.0</td>\n",
       "    </tr>\n",
       "    <tr>\n",
       "      <th>6</th>\n",
       "      <td>1</td>\n",
       "      <td>one</td>\n",
       "      <td>442.0</td>\n",
       "    </tr>\n",
       "    <tr>\n",
       "      <th>7</th>\n",
       "      <td>1</td>\n",
       "      <td>two</td>\n",
       "      <td>539.0</td>\n",
       "    </tr>\n",
       "    <tr>\n",
       "      <th>8</th>\n",
       "      <td>1</td>\n",
       "      <td>one</td>\n",
       "      <td>442.0</td>\n",
       "    </tr>\n",
       "    <tr>\n",
       "      <th>9</th>\n",
       "      <td>2</td>\n",
       "      <td>three</td>\n",
       "      <td>814.0</td>\n",
       "    </tr>\n",
       "    <tr>\n",
       "      <th>10</th>\n",
       "      <td>4</td>\n",
       "      <td>one</td>\n",
       "      <td>615.2</td>\n",
       "    </tr>\n",
       "  </tbody>\n",
       "</table>\n",
       "</div>"
      ],
      "text/plain": [
       "    id   type  amount\n",
       "0    1    one   345.0\n",
       "1    2    one   928.0\n",
       "2    3    two   942.0\n",
       "3    2  three   645.0\n",
       "4    2    two   113.0\n",
       "5    3  three   942.0\n",
       "6    1    one   442.0\n",
       "7    1    two   539.0\n",
       "8    1    one   442.0\n",
       "9    2  three   814.0\n",
       "10   4    one   615.2"
      ]
     },
     "execution_count": 159,
     "metadata": {},
     "output_type": "execute_result"
    }
   ],
   "source": [
    "# TODO: If there is no corresponding id and the cell is still null, simply use the overall mean\n",
    "df.fillna(df.mean(), inplace=True) #change existing df with inplace = True\n",
    "df"
   ]
  },
  {
   "cell_type": "markdown",
   "metadata": {},
   "source": [
    "You can fill values forwards and backwards with the flags *pad* / *ffill* and *bfill* / *backfill*"
   ]
  },
  {
   "cell_type": "code",
   "execution_count": 80,
   "metadata": {},
   "outputs": [
    {
     "name": "stdout",
     "output_type": "stream",
     "text": [
      "0       NaN\n",
      "1     125.0\n",
      "2     335.0\n",
      "3     345.0\n",
      "4     312.0\n",
      "5       NaN\n",
      "6       NaN\n",
      "7     129.0\n",
      "8     551.0\n",
      "9     800.0\n",
      "10    222.0\n",
      "dtype: float64\n",
      "\n",
      "\n"
     ]
    },
    {
     "data": {
      "text/plain": [
       "0       NaN\n",
       "1     125.0\n",
       "2     335.0\n",
       "3     345.0\n",
       "4     312.0\n",
       "5     312.0\n",
       "6     312.0\n",
       "7     129.0\n",
       "8     551.0\n",
       "9     800.0\n",
       "10    222.0\n",
       "dtype: float64"
      ]
     },
     "execution_count": 80,
     "metadata": {},
     "output_type": "execute_result"
    }
   ],
   "source": [
    "# TODO: fill the missing values in B with the values in the previous records (no limit)\n",
    "print (B)\n",
    "print ('\\n')    # line to separate the output\n",
    "B.fillna(method = 'pad')"
   ]
  },
  {
   "cell_type": "markdown",
   "metadata": {},
   "source": [
    "We can set a limit if we only want to replace consecutive gaps."
   ]
  },
  {
   "cell_type": "code",
   "execution_count": 81,
   "metadata": {},
   "outputs": [
    {
     "name": "stdout",
     "output_type": "stream",
     "text": [
      "0       NaN\n",
      "1     125.0\n",
      "2     335.0\n",
      "3     345.0\n",
      "4     312.0\n",
      "5       NaN\n",
      "6       NaN\n",
      "7     129.0\n",
      "8     551.0\n",
      "9     800.0\n",
      "10    222.0\n",
      "dtype: float64\n",
      "\n",
      "\n"
     ]
    },
    {
     "data": {
      "text/plain": [
       "0       NaN\n",
       "1     125.0\n",
       "2     335.0\n",
       "3     345.0\n",
       "4     312.0\n",
       "5     312.0\n",
       "6       NaN\n",
       "7     129.0\n",
       "8     551.0\n",
       "9     800.0\n",
       "10    222.0\n",
       "dtype: float64"
      ]
     },
     "execution_count": 81,
     "metadata": {},
     "output_type": "execute_result"
    }
   ],
   "source": [
    "# TODO: fill the missing values in B with the value in the next record (the value of a record can be used in the next record only)\n",
    "print (B)\n",
    "print ('\\n')    # line to separate the output\n",
    "B.fillna(method = 'ffill', limit = 1)"
   ]
  },
  {
   "cell_type": "markdown",
   "metadata": {},
   "source": [
    "### Outlier detection"
   ]
  },
  {
   "cell_type": "markdown",
   "metadata": {},
   "source": [
    "We can use the data pid.csv to practice on outlier detection"
   ]
  },
  {
   "cell_type": "code",
   "execution_count": 2,
   "metadata": {},
   "outputs": [],
   "source": [
    "# TODO: read the csv file pid\n",
    "\n"
   ]
  },
  {
   "cell_type": "code",
   "execution_count": null,
   "metadata": {},
   "outputs": [],
   "source": [
    "# TODO: for each column except the label column, compute the standard deviation of the columns\n",
    "# report all the values that are at distance > 3 * std from the mean value as outliers.\n",
    "\n"
   ]
  },
  {
   "cell_type": "markdown",
   "metadata": {},
   "source": [
    "# Data Transformation"
   ]
  },
  {
   "cell_type": "markdown",
   "metadata": {},
   "source": [
    "We begin by defining a pandas dataframe that contains some cells with missing values. Note that pandas, in addition to allowing us to create dataframes from a variety of files, also supports explicit declaration."
   ]
  },
  {
   "cell_type": "code",
   "execution_count": null,
   "metadata": {},
   "outputs": [],
   "source": [
    "df = pd.DataFrame(np.arange(5 * 4). reshape(5, 4))\n",
    "df"
   ]
  },
  {
   "cell_type": "markdown",
   "metadata": {},
   "source": [
    "### Data Sampling"
   ]
  },
  {
   "cell_type": "markdown",
   "metadata": {},
   "source": [
    "To select a random subset without replacement, one way is to slice off the first k elements of the array returned by permutation, where k is the desired subset size. Here, we use the 'take' method, which retrieves elements along a given axis at the given indices. Using this function, we slice off the first three elements:"
   ]
  },
  {
   "cell_type": "code",
   "execution_count": null,
   "metadata": {},
   "outputs": [],
   "source": [
    "# TODO: perform permutation over the index of the dataframe and take the first three records\n",
    "\n"
   ]
  },
  {
   "cell_type": "markdown",
   "metadata": {},
   "source": [
    "To generate a sample with replacement, we can draw random integers."
   ]
  },
  {
   "cell_type": "code",
   "execution_count": null,
   "metadata": {},
   "outputs": [],
   "source": [
    "# TODO: draw three random integer values from the index values of the dataframe \n",
    "# (Note that the default index of the dataframe starts from 0)\n"
   ]
  },
  {
   "cell_type": "markdown",
   "metadata": {},
   "source": [
    "These random integers can be used as input for the 'take' method, which is then used to sample the data. Since the random integers consistuting the array may be repeated, the rows sampled by this method may also be repeated -- or, in other words, sampled with replacement."
   ]
  },
  {
   "cell_type": "code",
   "execution_count": null,
   "metadata": {},
   "outputs": [],
   "source": [
    "# Extract the row with indexes drawn in the previous step\n"
   ]
  },
  {
   "cell_type": "markdown",
   "metadata": {},
   "source": [
    "### Data Normalization or Standardization"
   ]
  },
  {
   "cell_type": "markdown",
   "metadata": {},
   "source": [
    "Aside from sampling data, we may also want to normalize or standardize our data."
   ]
  },
  {
   "cell_type": "code",
   "execution_count": null,
   "metadata": {},
   "outputs": [],
   "source": [
    "# TODO: normalize the data in the df by dividing the values over the sum of the values in the dataframe\n"
   ]
  },
  {
   "cell_type": "code",
   "execution_count": null,
   "metadata": {},
   "outputs": [],
   "source": [
    "# TODO: normalize the data in the df by dividing the values over the average of the values in the dataframe\n",
    "\n"
   ]
  },
  {
   "cell_type": "code",
   "execution_count": null,
   "metadata": {},
   "outputs": [],
   "source": [
    "# TODO: normalize the data in the df by mapping the values to the interval [-5,5]\n"
   ]
  },
  {
   "cell_type": "code",
   "execution_count": null,
   "metadata": {},
   "outputs": [],
   "source": []
  }
 ],
 "metadata": {
  "kernelspec": {
   "display_name": "Python 3",
   "language": "python",
   "name": "python3"
  },
  "language_info": {
   "codemirror_mode": {
    "name": "ipython",
    "version": 3
   },
   "file_extension": ".py",
   "mimetype": "text/x-python",
   "name": "python",
   "nbconvert_exporter": "python",
   "pygments_lexer": "ipython3",
   "version": "3.8.3"
  }
 },
 "nbformat": 4,
 "nbformat_minor": 4
}
