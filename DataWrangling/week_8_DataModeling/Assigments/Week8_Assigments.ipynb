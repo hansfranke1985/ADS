{
 "cells": [
  {
   "cell_type": "markdown",
   "metadata": {},
   "source": [
    "# Week 8: Regression and Classification"
   ]
  },
  {
   "cell_type": "markdown",
   "metadata": {},
   "source": [
    "Given the dataset pid, the column label represents the class label of the record. This week, you need\n",
    "to apply three different classification techniques to predict the label of each record.\n",
    "1. Split the dataset into training and testing (75/25 %).\n",
    "2. Train the model using the training data.\n",
    "3. Use the model to predict the label of the test data.\n",
    "4. Compute and display the confusion matrix.\n",
    "5. Evaluate each classifier using two evaluation metrics (e.g. precision and accuracy)\n",
    "6. In columns C, D, E and F, the value 0 is not correct, remove those values and use one of the data\n",
    "imputation techniques that you learnt last week to fill the missing values that resulted from\n",
    "removing the value 0.\n",
    "7. Use sampling with stratification to split the data such that each class gets represented by a ratio\n",
    "that reflects the ratio of the records that belong to the class in the dataset.\n",
    "8. Check the performance of the model after the imputation."
   ]
  },
  {
   "cell_type": "code",
   "execution_count": 1,
   "metadata": {},
   "outputs": [],
   "source": [
    "import numpy as np\n",
    "import pandas as pd\n",
    "import seaborn as sns\n",
    "import matplotlib.pylab as plt\n",
    "from sklearn import linear_model\n",
    "from sklearn.linear_model import LinearRegression\n",
    "from sklearn import metrics\n",
    "from sklearn import datasets\n",
    "from sklearn.linear_model import LogisticRegression\n",
    "from sklearn.tree import DecisionTreeClassifier\n",
    "from sklearn.ensemble import RandomForestClassifier\n",
    "from sklearn.neighbors import KNeighborsClassifier\n",
    "\n",
    "from sklearn.model_selection import train_test_split\n",
    "from sklearn.metrics import confusion_matrix\n",
    "from sklearn.metrics import plot_confusion_matrix"
   ]
  },
  {
   "cell_type": "code",
   "execution_count": 2,
   "metadata": {},
   "outputs": [
    {
     "data": {
      "text/html": [
       "<div>\n",
       "<style scoped>\n",
       "    .dataframe tbody tr th:only-of-type {\n",
       "        vertical-align: middle;\n",
       "    }\n",
       "\n",
       "    .dataframe tbody tr th {\n",
       "        vertical-align: top;\n",
       "    }\n",
       "\n",
       "    .dataframe thead th {\n",
       "        text-align: right;\n",
       "    }\n",
       "</style>\n",
       "<table border=\"1\" class=\"dataframe\">\n",
       "  <thead>\n",
       "    <tr style=\"text-align: right;\">\n",
       "      <th></th>\n",
       "      <th>A</th>\n",
       "      <th>B</th>\n",
       "      <th>C</th>\n",
       "      <th>D</th>\n",
       "      <th>E</th>\n",
       "      <th>F</th>\n",
       "      <th>G</th>\n",
       "      <th>H</th>\n",
       "      <th>Label</th>\n",
       "    </tr>\n",
       "  </thead>\n",
       "  <tbody>\n",
       "    <tr>\n",
       "      <th>0</th>\n",
       "      <td>6</td>\n",
       "      <td>148</td>\n",
       "      <td>72</td>\n",
       "      <td>35</td>\n",
       "      <td>0</td>\n",
       "      <td>33.6</td>\n",
       "      <td>0.627</td>\n",
       "      <td>50</td>\n",
       "      <td>1</td>\n",
       "    </tr>\n",
       "    <tr>\n",
       "      <th>1</th>\n",
       "      <td>1</td>\n",
       "      <td>85</td>\n",
       "      <td>66</td>\n",
       "      <td>29</td>\n",
       "      <td>0</td>\n",
       "      <td>26.6</td>\n",
       "      <td>0.351</td>\n",
       "      <td>31</td>\n",
       "      <td>0</td>\n",
       "    </tr>\n",
       "    <tr>\n",
       "      <th>2</th>\n",
       "      <td>8</td>\n",
       "      <td>183</td>\n",
       "      <td>64</td>\n",
       "      <td>0</td>\n",
       "      <td>0</td>\n",
       "      <td>23.3</td>\n",
       "      <td>0.672</td>\n",
       "      <td>32</td>\n",
       "      <td>1</td>\n",
       "    </tr>\n",
       "    <tr>\n",
       "      <th>3</th>\n",
       "      <td>1</td>\n",
       "      <td>89</td>\n",
       "      <td>66</td>\n",
       "      <td>23</td>\n",
       "      <td>94</td>\n",
       "      <td>28.1</td>\n",
       "      <td>0.167</td>\n",
       "      <td>21</td>\n",
       "      <td>0</td>\n",
       "    </tr>\n",
       "    <tr>\n",
       "      <th>4</th>\n",
       "      <td>0</td>\n",
       "      <td>137</td>\n",
       "      <td>40</td>\n",
       "      <td>35</td>\n",
       "      <td>168</td>\n",
       "      <td>43.1</td>\n",
       "      <td>2.288</td>\n",
       "      <td>33</td>\n",
       "      <td>1</td>\n",
       "    </tr>\n",
       "  </tbody>\n",
       "</table>\n",
       "</div>"
      ],
      "text/plain": [
       "   A    B   C   D    E     F      G   H  Label\n",
       "0  6  148  72  35    0  33.6  0.627  50      1\n",
       "1  1   85  66  29    0  26.6  0.351  31      0\n",
       "2  8  183  64   0    0  23.3  0.672  32      1\n",
       "3  1   89  66  23   94  28.1  0.167  21      0\n",
       "4  0  137  40  35  168  43.1  2.288  33      1"
      ]
     },
     "execution_count": 2,
     "metadata": {},
     "output_type": "execute_result"
    }
   ],
   "source": [
    "#Load df\n",
    "pid = pd.read_csv(\"pid.csv\")\n",
    "pid.head()"
   ]
  },
  {
   "cell_type": "markdown",
   "metadata": {},
   "source": [
    "## Split data X and Y (Train and Test)"
   ]
  },
  {
   "cell_type": "code",
   "execution_count": 195,
   "metadata": {},
   "outputs": [],
   "source": [
    "X = pid.iloc[:,0:7].values #predictors\n",
    "y = pid.iloc[:,-1].values #response \n",
    "\n",
    "#Split with 25% in test set\n",
    "X_train, X_test, y_train, y_test = train_test_split(X, y, test_size=0.25)"
   ]
  },
  {
   "cell_type": "code",
   "execution_count": 196,
   "metadata": {},
   "outputs": [
    {
     "name": "stdout",
     "output_type": "stream",
     "text": [
      "576\n",
      "192\n"
     ]
    }
   ],
   "source": [
    "print(len(X_train))\n",
    "print(len(X_test))"
   ]
  },
  {
   "cell_type": "code",
   "execution_count": 197,
   "metadata": {},
   "outputs": [
    {
     "name": "stdout",
     "output_type": "stream",
     "text": [
      "Length of train set 576 , number of responses 193, proportion   0.34\n",
      "Length of test set 192 , number of responses 75, proportion   0.39\n"
     ]
    }
   ],
   "source": [
    "#Proportion of 1 in train\n",
    "print(\"Length of train set %d , number of responses %d, proportion %6.02f\" %(len(y_train), y_train.sum(), y_train.sum() / (len(y_train) )))\n",
    "\n",
    "#Proportion of 1 in test\n",
    "print(\"Length of test set %d , number of responses %d, proportion %6.02f\" %(len(y_test), y_test.sum(), y_test.sum() / (len(y_test) )))"
   ]
  },
  {
   "cell_type": "markdown",
   "metadata": {},
   "source": [
    "## Training Models"
   ]
  },
  {
   "cell_type": "markdown",
   "metadata": {},
   "source": [
    "## Decision Tree\n",
    "\n"
   ]
  },
  {
   "cell_type": "code",
   "execution_count": 109,
   "metadata": {},
   "outputs": [
    {
     "name": "stdout",
     "output_type": "stream",
     "text": [
      "[[98 28]\n",
      " [24 42]]\n"
     ]
    },
    {
     "data": {
      "text/plain": [
       "<sklearn.metrics._plot.confusion_matrix.ConfusionMatrixDisplay at 0x15558c19d30>"
      ]
     },
     "execution_count": 109,
     "metadata": {},
     "output_type": "execute_result"
    },
    {
     "data": {
      "image/png": "[encoded data removed]",
      "text/plain": [
       "<Figure size 432x288 with 2 Axes>"
      ]
     },
     "metadata": {
      "needs_background": "light"
     },
     "output_type": "display_data"
    }
   ],
   "source": [
    "\n",
    "#Fit Model\n",
    "tree = DecisionTreeClassifier().fit(X_train, y_train)\n",
    "\n",
    "#Predict Values\n",
    "y_pred = tree.predict(X_test)\n",
    "\n",
    "#Confusion Matrix\n",
    "print(confusion_matrix(y_test, y_pred))\n",
    "\n",
    "# Plot non-normalized confusion matrix\n",
    "plot_confusion_matrix(tree, X_test, y_test)"
   ]
  },
  {
   "cell_type": "markdown",
   "metadata": {},
   "source": [
    "## Random Forest"
   ]
  },
  {
   "cell_type": "code",
   "execution_count": 110,
   "metadata": {},
   "outputs": [
    {
     "name": "stdout",
     "output_type": "stream",
     "text": [
      "[[107  19]\n",
      " [ 33  33]]\n"
     ]
    },
    {
     "data": {
      "text/plain": [
       "<sklearn.metrics._plot.confusion_matrix.ConfusionMatrixDisplay at 0x15559b79d90>"
      ]
     },
     "execution_count": 110,
     "metadata": {},
     "output_type": "execute_result"
    },
    {
     "data": {
      "image/png": "[encoded data removed]",
      "text/plain": [
       "<Figure size 432x288 with 2 Axes>"
      ]
     },
     "metadata": {
      "needs_background": "light"
     },
     "output_type": "display_data"
    }
   ],
   "source": [
    "\n",
    "#Fit Model\n",
    "r_forest = RandomForestClassifier().fit(X_train, y_train)\n",
    "\n",
    "#Predict Values\n",
    "y_pred = r_forest.predict(X_test)\n",
    "\n",
    "#Confusion Matrix\n",
    "print(confusion_matrix(y_test, y_pred))\n",
    "\n",
    "# Plot non-normalized confusion matrix\n",
    "plot_confusion_matrix(r_forest, X_test, y_test)"
   ]
  },
  {
   "cell_type": "markdown",
   "metadata": {},
   "source": [
    "## KNN\n"
   ]
  },
  {
   "cell_type": "code",
   "execution_count": 111,
   "metadata": {},
   "outputs": [
    {
     "name": "stdout",
     "output_type": "stream",
     "text": [
      "[[118   8]\n",
      " [ 50  16]]\n"
     ]
    },
    {
     "data": {
      "text/plain": [
       "<sklearn.metrics._plot.confusion_matrix.ConfusionMatrixDisplay at 0x15559c10d00>"
      ]
     },
     "execution_count": 111,
     "metadata": {},
     "output_type": "execute_result"
    },
    {
     "data": {
      "image/png": "[encoded data removed]",
      "text/plain": [
       "<Figure size 432x288 with 2 Axes>"
      ]
     },
     "metadata": {
      "needs_background": "light"
     },
     "output_type": "display_data"
    }
   ],
   "source": [
    "#Fit Model\n",
    "knn = KNeighborsClassifier(n_neighbors=2).fit(X_train, y_train)\n",
    "\n",
    "#Predict Values\n",
    "y_pred = knn.predict(X_test)\n",
    "\n",
    "#Confusion Matrix\n",
    "print(confusion_matrix(y_test, y_pred))\n",
    "\n",
    "# Plot non-normalized confusion matrix\n",
    "plot_confusion_matrix(knn, X_test, y_test)"
   ]
  },
  {
   "cell_type": "code",
   "execution_count": 198,
   "metadata": {},
   "outputs": [
    {
     "name": "stdout",
     "output_type": "stream",
     "text": [
      "[[101  16]\n",
      " [ 29  46]]\n",
      "Model LogisticRegression() Acuracy Score 0.77\n",
      "Model LogisticRegression() Precision Score 0.74\n"
     ]
    },
    {
     "data": {
      "image/png": "[encoded data removed]",
      "text/plain": [
       "<Figure size 432x288 with 2 Axes>"
      ]
     },
     "metadata": {
      "needs_background": "light"
     },
     "output_type": "display_data"
    }
   ],
   "source": [
    "#More Models \n",
    "from sklearn.linear_model import LogisticRegression\n",
    "\n",
    "clf = LogisticRegression().fit(X_train, y_train)\n",
    "\n",
    "#Predict Values\n",
    "y_pred = clf.predict(X_test)\n",
    "\n",
    "#Confusion Matrix\n",
    "print(confusion_matrix(y_test, y_pred))\n",
    "\n",
    "# Plot non-normalized confusion matrix\n",
    "plot_confusion_matrix(clf, X_test, y_test)\n",
    "\n",
    "#Accuracy and Precision\n",
    "print(\"Model\", clf, \"Acuracy Score\", round(accuracy_score(y_test, y_pred),2))\n",
    "print(\"Model\", clf,\"Precision Score\", round(precision_score(y_test, y_pred),2))\n",
    "\n"
   ]
  },
  {
   "cell_type": "code",
   "execution_count": 199,
   "metadata": {},
   "outputs": [
    {
     "name": "stdout",
     "output_type": "stream",
     "text": [
      "[[95 22]\n",
      " [22 53]]\n",
      "Model GaussianNB() Acuracy Score 0.77\n",
      "Model GaussianNB() Precision Score 0.71\n"
     ]
    },
    {
     "data": {
      "image/png": "[encoded data removed]",
      "text/plain": [
       "<Figure size 432x288 with 2 Axes>"
      ]
     },
     "metadata": {
      "needs_background": "light"
     },
     "output_type": "display_data"
    }
   ],
   "source": [
    "#Naive Bayes\n",
    "from sklearn.naive_bayes import GaussianNB\n",
    "\n",
    "clf = GaussianNB().fit(X_train, y_train)\n",
    "\n",
    "#Predict Values\n",
    "y_pred = clf.predict(X_test)\n",
    "\n",
    "#Confusion Matrix\n",
    "print(confusion_matrix(y_test, y_pred))\n",
    "\n",
    "# Plot non-normalized confusion matrix\n",
    "plot_confusion_matrix(clf, X_test, y_test)\n",
    "\n",
    "#Accuracy and Precision\n",
    "print(\"Model\", clf, \"Acuracy Score\", round(accuracy_score(y_test, y_pred),2))\n",
    "print(\"Model\", clf,\"Precision Score\", round(precision_score(y_test, y_pred),2))\n"
   ]
  },
  {
   "cell_type": "markdown",
   "metadata": {},
   "source": [
    "# Evaluating all models considering Acuracy and Precision\n",
    "\n",
    "## Accuracy = TP + TN / TP + TN + FP + FN\n",
    "## Precision = TP / TP + FP\n"
   ]
  },
  {
   "cell_type": "code",
   "execution_count": 112,
   "metadata": {},
   "outputs": [
    {
     "name": "stdout",
     "output_type": "stream",
     "text": [
      "Model DecisionTreeClassifier() Acuracy Score 0.71\n",
      "Model DecisionTreeClassifier() Precision Score 0.57\n",
      "\n",
      "\n",
      "Model RandomForestClassifier() Acuracy Score 0.72\n",
      "Model RandomForestClassifier() Precision Score 0.62\n",
      "\n",
      "\n",
      "Model KNeighborsClassifier(n_neighbors=2) Acuracy Score 0.7\n",
      "Model KNeighborsClassifier(n_neighbors=2) Precision Score 0.67\n",
      "\n",
      "\n"
     ]
    }
   ],
   "source": [
    "from sklearn.metrics import accuracy_score\n",
    "from sklearn.metrics import precision_score\n",
    "\n",
    "#Loading all models in a list\n",
    "models = [tree, r_forest, knn]\n",
    "acc_models = [] #will be use later to compare with diferent slips\n",
    "prec_models = [] #will be use later to compare with diferent slips\n",
    "for i in range(0,len(models)):\n",
    "    clf = models[i]\n",
    "    clf.fit(X_train, y_train) #fit again the model\n",
    "    \n",
    "    y_pred = clf.predict(X_test)\n",
    "    print(\"Model\", models[i], \"Acuracy Score\", round(accuracy_score(y_test, y_pred),2))\n",
    "    print(\"Model\", models[i],\"Precision Score\", round(precision_score(y_test, y_pred),2))\n",
    "    acc_models.append(accuracy_score(y_test, y_pred))\n",
    "    prec_models.append(precision_score(y_test, y_pred))\n",
    "    print(\"\\n\")"
   ]
  },
  {
   "cell_type": "code",
   "execution_count": 113,
   "metadata": {},
   "outputs": [
    {
     "data": {
      "text/plain": [
       "[0.7083333333333334, 0.7239583333333334, 0.6979166666666666]"
      ]
     },
     "execution_count": 113,
     "metadata": {},
     "output_type": "execute_result"
    }
   ],
   "source": [
    "acc_models"
   ]
  },
  {
   "cell_type": "markdown",
   "metadata": {},
   "source": [
    "# Looking for 0 in columns C,D,E and F"
   ]
  },
  {
   "cell_type": "code",
   "execution_count": 114,
   "metadata": {},
   "outputs": [],
   "source": [
    "pid = pd.read_csv(\"pid.csv\")\n",
    "#pid[(pid[\"C\"] == 0) & (pid[\"D\"] == 0) & (pid[\"E\"] == 0) & (pid[\"F\"] == 0)] = np.nan"
   ]
  },
  {
   "cell_type": "code",
   "execution_count": 115,
   "metadata": {},
   "outputs": [],
   "source": [
    "index = pid[[\"C\", \"D\", \"E\", \"F\"]][(pid[\"C\"]==0)&(pid[\"D\"]==0)&(pid[\"F\"]==0)]\n",
    "cols = [\"C\", \"D\", \"E\", \"F\"]\n",
    "\n",
    "#change just this values in each col to the mean() -> im considering this MCAR\n",
    "for i in range(0,len(cols)):\n",
    "    pid.loc[index.index,cols[i]] = pid.loc[:,cols[i]].mean()"
   ]
  },
  {
   "cell_type": "code",
   "execution_count": 116,
   "metadata": {},
   "outputs": [
    {
     "data": {
      "text/html": [
       "<div>\n",
       "<style scoped>\n",
       "    .dataframe tbody tr th:only-of-type {\n",
       "        vertical-align: middle;\n",
       "    }\n",
       "\n",
       "    .dataframe tbody tr th {\n",
       "        vertical-align: top;\n",
       "    }\n",
       "\n",
       "    .dataframe thead th {\n",
       "        text-align: right;\n",
       "    }\n",
       "</style>\n",
       "<table border=\"1\" class=\"dataframe\">\n",
       "  <thead>\n",
       "    <tr style=\"text-align: right;\">\n",
       "      <th></th>\n",
       "      <th>A</th>\n",
       "      <th>B</th>\n",
       "      <th>C</th>\n",
       "      <th>D</th>\n",
       "      <th>E</th>\n",
       "      <th>F</th>\n",
       "      <th>G</th>\n",
       "      <th>H</th>\n",
       "      <th>Label</th>\n",
       "    </tr>\n",
       "  </thead>\n",
       "  <tbody>\n",
       "    <tr>\n",
       "      <th>49</th>\n",
       "      <td>7</td>\n",
       "      <td>105</td>\n",
       "      <td>69.105469</td>\n",
       "      <td>20.536458</td>\n",
       "      <td>79.799479</td>\n",
       "      <td>31.992578</td>\n",
       "      <td>0.305</td>\n",
       "      <td>24</td>\n",
       "      <td>0</td>\n",
       "    </tr>\n",
       "    <tr>\n",
       "      <th>60</th>\n",
       "      <td>2</td>\n",
       "      <td>84</td>\n",
       "      <td>69.105469</td>\n",
       "      <td>20.536458</td>\n",
       "      <td>79.799479</td>\n",
       "      <td>31.992578</td>\n",
       "      <td>0.304</td>\n",
       "      <td>21</td>\n",
       "      <td>0</td>\n",
       "    </tr>\n",
       "    <tr>\n",
       "      <th>81</th>\n",
       "      <td>2</td>\n",
       "      <td>74</td>\n",
       "      <td>69.105469</td>\n",
       "      <td>20.536458</td>\n",
       "      <td>79.799479</td>\n",
       "      <td>31.992578</td>\n",
       "      <td>0.102</td>\n",
       "      <td>22</td>\n",
       "      <td>0</td>\n",
       "    </tr>\n",
       "    <tr>\n",
       "      <th>426</th>\n",
       "      <td>0</td>\n",
       "      <td>94</td>\n",
       "      <td>69.105469</td>\n",
       "      <td>20.536458</td>\n",
       "      <td>79.799479</td>\n",
       "      <td>31.992578</td>\n",
       "      <td>0.256</td>\n",
       "      <td>25</td>\n",
       "      <td>0</td>\n",
       "    </tr>\n",
       "    <tr>\n",
       "      <th>494</th>\n",
       "      <td>3</td>\n",
       "      <td>80</td>\n",
       "      <td>69.105469</td>\n",
       "      <td>20.536458</td>\n",
       "      <td>79.799479</td>\n",
       "      <td>31.992578</td>\n",
       "      <td>0.174</td>\n",
       "      <td>22</td>\n",
       "      <td>0</td>\n",
       "    </tr>\n",
       "    <tr>\n",
       "      <th>522</th>\n",
       "      <td>6</td>\n",
       "      <td>114</td>\n",
       "      <td>69.105469</td>\n",
       "      <td>20.536458</td>\n",
       "      <td>79.799479</td>\n",
       "      <td>31.992578</td>\n",
       "      <td>0.189</td>\n",
       "      <td>26</td>\n",
       "      <td>0</td>\n",
       "    </tr>\n",
       "    <tr>\n",
       "      <th>706</th>\n",
       "      <td>10</td>\n",
       "      <td>115</td>\n",
       "      <td>69.105469</td>\n",
       "      <td>20.536458</td>\n",
       "      <td>79.799479</td>\n",
       "      <td>31.992578</td>\n",
       "      <td>0.261</td>\n",
       "      <td>30</td>\n",
       "      <td>1</td>\n",
       "    </tr>\n",
       "  </tbody>\n",
       "</table>\n",
       "</div>"
      ],
      "text/plain": [
       "      A    B          C          D          E          F      G   H  Label\n",
       "49    7  105  69.105469  20.536458  79.799479  31.992578  0.305  24      0\n",
       "60    2   84  69.105469  20.536458  79.799479  31.992578  0.304  21      0\n",
       "81    2   74  69.105469  20.536458  79.799479  31.992578  0.102  22      0\n",
       "426   0   94  69.105469  20.536458  79.799479  31.992578  0.256  25      0\n",
       "494   3   80  69.105469  20.536458  79.799479  31.992578  0.174  22      0\n",
       "522   6  114  69.105469  20.536458  79.799479  31.992578  0.189  26      0\n",
       "706  10  115  69.105469  20.536458  79.799479  31.992578  0.261  30      1"
      ]
     },
     "execution_count": 116,
     "metadata": {},
     "output_type": "execute_result"
    }
   ],
   "source": [
    "pid.loc[index.index] "
   ]
  },
  {
   "cell_type": "code",
   "execution_count": 117,
   "metadata": {},
   "outputs": [
    {
     "data": {
      "text/plain": [
       "Label\n",
       "0    500\n",
       "1    268\n",
       "Name: Label, dtype: int64"
      ]
     },
     "execution_count": 117,
     "metadata": {},
     "output_type": "execute_result"
    }
   ],
   "source": [
    "#Lookfing for distribution of responsae classes\n",
    "pid[\"Label\"].groupby(pid['Label']).count()"
   ]
  },
  {
   "cell_type": "code",
   "execution_count": 186,
   "metadata": {},
   "outputs": [],
   "source": [
    "#Random sampling to add more Responses classes\n",
    "\n",
    "#look for the diferences in each response variable\n",
    "dif_sets = (len(pid[pid[\"Label\"]==1]) - len(pid[pid[\"Label\"]==0]))*-1\n",
    "\n",
    "#create a copy just for precaution\n",
    "pid2 = pid.copy()\n",
    "\n",
    "#random sampling and add at end (only with responsa variable =1) | Samples with replacing\n",
    "for i in range(0,dif_sets):\n",
    "    pid2 = pid2.append(pid[pid[\"Label\"]==1].sample(n=1, replace=True), ignore_index=True)\n",
    "    "
   ]
  },
  {
   "cell_type": "code",
   "execution_count": 187,
   "metadata": {},
   "outputs": [
    {
     "data": {
      "text/plain": [
       "Label\n",
       "0    500\n",
       "1    500\n",
       "Name: Label, dtype: int64"
      ]
     },
     "execution_count": 187,
     "metadata": {},
     "output_type": "execute_result"
    }
   ],
   "source": [
    "#Lookfing for distribution of response classes\n",
    "pid2[\"Label\"].groupby(pid2['Label']).count()"
   ]
  },
  {
   "cell_type": "code",
   "execution_count": 188,
   "metadata": {},
   "outputs": [],
   "source": [
    "from sklearn.model_selection import StratifiedKFold\n",
    "from sklearn.model_selection import ShuffleSplit\n",
    "\n",
    "X = pid2.iloc[:,0:7].values #predictors\n",
    "y = pid2.iloc[:,-1].values #response \n",
    "\n",
    "#Split with 25% in test set\n",
    "X_train, X_test, y_train, y_test = train_test_split(X, y, test_size=0.25)\n"
   ]
  },
  {
   "cell_type": "code",
   "execution_count": 189,
   "metadata": {},
   "outputs": [
    {
     "name": "stdout",
     "output_type": "stream",
     "text": [
      "Length of train set 750 , number of responses 371, proportion   0.49\n",
      "Length of test set 250 , number of responses 129, proportion   0.52\n"
     ]
    }
   ],
   "source": [
    "#Proportion of in train\n",
    "print(\"Length of train set %d , number of responses %d, proportion %6.02f\" %(len(y_train), y_train.sum(), y_train.sum() / (len(y_train) )))\n",
    "\n",
    "#Proportion of in test\n",
    "print(\"Length of test set %d , number of responses %d, proportion %6.02f\" %(len(y_test), y_test.sum(), y_test.sum() / (len(y_test) )))"
   ]
  },
  {
   "cell_type": "code",
   "execution_count": 190,
   "metadata": {},
   "outputs": [
    {
     "name": "stdout",
     "output_type": "stream",
     "text": [
      "Model DecisionTreeClassifier() Acuracy Score 0.82\n",
      "Model DecisionTreeClassifier() Precision Score 0.78\n",
      "\n",
      "\n",
      "Model RandomForestClassifier() Acuracy Score 0.79\n",
      "Model RandomForestClassifier() Precision Score 0.78\n",
      "\n",
      "\n",
      "Model KNeighborsClassifier(n_neighbors=2) Acuracy Score 0.74\n",
      "Model KNeighborsClassifier(n_neighbors=2) Precision Score 0.83\n",
      "\n",
      "\n"
     ]
    }
   ],
   "source": [
    "from sklearn.metrics import accuracy_score\n",
    "\n",
    "#Loading all models in a list\n",
    "models = [tree, r_forest, knn]\n",
    "modelsnames = [\"DecisionTree\", \"RandomForest\", \"KNN\"]\n",
    "acc_models2 = []\n",
    "prec_models2 = []\n",
    "for i in range(0,len(models)):\n",
    "    clf = models[i]\n",
    "    clf.fit(X_train, y_train) #fit again the model\n",
    "    \n",
    "    y_pred = clf.predict(X_test)\n",
    "    print(\"Model\", models[i], \"Acuracy Score\", round(accuracy_score(y_test, y_pred),2))\n",
    "    print(\"Model\", models[i], \"Precision Score\", round(precision_score(y_test, y_pred),2))\n",
    "    print(\"\\n\")\n",
    "    acc_models2.append(accuracy_score(y_test, y_pred))\n",
    "    prec_models2.append(precision_score(y_test, y_pred))"
   ]
  },
  {
   "cell_type": "code",
   "execution_count": 191,
   "metadata": {},
   "outputs": [
    {
     "data": {
      "text/html": [
       "<div>\n",
       "<style scoped>\n",
       "    .dataframe tbody tr th:only-of-type {\n",
       "        vertical-align: middle;\n",
       "    }\n",
       "\n",
       "    .dataframe tbody tr th {\n",
       "        vertical-align: top;\n",
       "    }\n",
       "\n",
       "    .dataframe thead th {\n",
       "        text-align: right;\n",
       "    }\n",
       "</style>\n",
       "<table border=\"1\" class=\"dataframe\">\n",
       "  <thead>\n",
       "    <tr style=\"text-align: right;\">\n",
       "      <th></th>\n",
       "      <th>DecisionTree</th>\n",
       "      <th>RandomForest</th>\n",
       "      <th>KNN</th>\n",
       "    </tr>\n",
       "  </thead>\n",
       "  <tbody>\n",
       "    <tr>\n",
       "      <th>Accuracy_SameSplit</th>\n",
       "      <td>0.816000</td>\n",
       "      <td>0.788000</td>\n",
       "      <td>0.744000</td>\n",
       "    </tr>\n",
       "    <tr>\n",
       "      <th>Accuracy</th>\n",
       "      <td>0.708333</td>\n",
       "      <td>0.723958</td>\n",
       "      <td>0.697917</td>\n",
       "    </tr>\n",
       "    <tr>\n",
       "      <th>Precision_SameSpli</th>\n",
       "      <td>0.782313</td>\n",
       "      <td>0.775362</td>\n",
       "      <td>0.828283</td>\n",
       "    </tr>\n",
       "    <tr>\n",
       "      <th>Precision</th>\n",
       "      <td>0.569444</td>\n",
       "      <td>0.618182</td>\n",
       "      <td>0.666667</td>\n",
       "    </tr>\n",
       "  </tbody>\n",
       "</table>\n",
       "</div>"
      ],
      "text/plain": [
       "                    DecisionTree  RandomForest       KNN\n",
       "Accuracy_SameSplit      0.816000      0.788000  0.744000\n",
       "Accuracy                0.708333      0.723958  0.697917\n",
       "Precision_SameSpli      0.782313      0.775362  0.828283\n",
       "Precision               0.569444      0.618182  0.666667"
      ]
     },
     "execution_count": 191,
     "metadata": {},
     "output_type": "execute_result"
    }
   ],
   "source": [
    "#We improve the acuracy and the precision as well \n",
    "df_split = pd.DataFrame(data=[acc_models2,acc_models, prec_models2, prec_models], columns=modelsnames, index=[\"Accuracy_SameSplit\", \"Accuracy\", \"Precision_SameSpli\", \"Precision\"])\n",
    "df_split"
   ]
  },
  {
   "cell_type": "code",
   "execution_count": null,
   "metadata": {},
   "outputs": [],
   "source": []
  }
 ],
 "metadata": {
  "kernelspec": {
   "display_name": "Python 3",
   "language": "python",
   "name": "python3"
  },
  "language_info": {
   "codemirror_mode": {
    "name": "ipython",
    "version": 3
   },
   "file_extension": ".py",
   "mimetype": "text/x-python",
   "name": "python",
   "nbconvert_exporter": "python",
   "pygments_lexer": "ipython3",
   "version": "3.8.3"
  }
 },
 "nbformat": 4,
 "nbformat_minor": 4
}
