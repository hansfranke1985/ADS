{
 "cells": [
  {
   "cell_type": "markdown",
   "metadata": {},
   "source": [
    "# Week 8: Regression and Classification"
   ]
  },
  {
   "cell_type": "markdown",
   "metadata": {},
   "source": [
    "Given the dataset pid, the column label represents the class label of the record. This week, you need\n",
    "to apply three different classification techniques to predict the label of each record.\n",
    "1. Split the dataset into training and testing (75/25 %).\n",
    "2. Train the model using the training data.\n",
    "3. Use the model to predict the label of the test data.\n",
    "4. Compute and display the confusion matrix.\n",
    "5. Evaluate each classifier using two evaluation metrics (e.g. precision and accuracy)\n",
    "6. In columns C, D, E and F, the value 0 is not correct, remove those values and use one of the data\n",
    "imputation techniques that you learnt last week to fill the missing values that resulted from\n",
    "removing the value 0.\n",
    "7. Use sampling with stratification to split the data such that each class gets represented by a ratio\n",
    "that reflects the ratio of the records that belong to the class in the dataset.\n",
    "8. Check the performance of the model after the imputation."
   ]
  },
  {
   "cell_type": "code",
   "execution_count": 14,
   "metadata": {},
   "outputs": [],
   "source": [
    "import numpy as np\n",
    "import pandas as pd\n",
    "import seaborn as sns\n",
    "import matplotlib.pylab as plt\n",
    "from sklearn import linear_model\n",
    "from sklearn.linear_model import LinearRegression\n",
    "from sklearn import metrics\n",
    "from sklearn import datasets\n",
    "from sklearn.linear_model import LogisticRegression\n",
    "from sklearn.tree import DecisionTreeClassifier\n",
    "from sklearn.ensemble import RandomForestClassifier\n",
    "from sklearn.neighbors import KNeighborsClassifier\n",
    "from sklearn.model_selection import cross_val_score\n",
    "from sklearn.model_selection import train_test_split\n",
    "from sklearn.metrics import confusion_matrix\n",
    "from sklearn.metrics import plot_confusion_matrix\n",
    "from sklearn.metrics import accuracy_score\n",
    "from sklearn.metrics import precision_score\n",
    "from sklearn import preprocessing\n",
    "from sklearn.preprocessing import StandardScaler"
   ]
  },
  {
   "cell_type": "code",
   "execution_count": 2,
   "metadata": {},
   "outputs": [
    {
     "data": {
      "text/html": [
       "<div>\n",
       "<style scoped>\n",
       "    .dataframe tbody tr th:only-of-type {\n",
       "        vertical-align: middle;\n",
       "    }\n",
       "\n",
       "    .dataframe tbody tr th {\n",
       "        vertical-align: top;\n",
       "    }\n",
       "\n",
       "    .dataframe thead th {\n",
       "        text-align: right;\n",
       "    }\n",
       "</style>\n",
       "<table border=\"1\" class=\"dataframe\">\n",
       "  <thead>\n",
       "    <tr style=\"text-align: right;\">\n",
       "      <th></th>\n",
       "      <th>A</th>\n",
       "      <th>B</th>\n",
       "      <th>C</th>\n",
       "      <th>D</th>\n",
       "      <th>E</th>\n",
       "      <th>F</th>\n",
       "      <th>G</th>\n",
       "      <th>H</th>\n",
       "      <th>Label</th>\n",
       "    </tr>\n",
       "  </thead>\n",
       "  <tbody>\n",
       "    <tr>\n",
       "      <th>0</th>\n",
       "      <td>6</td>\n",
       "      <td>148</td>\n",
       "      <td>72</td>\n",
       "      <td>35</td>\n",
       "      <td>0</td>\n",
       "      <td>33.6</td>\n",
       "      <td>0.627</td>\n",
       "      <td>50</td>\n",
       "      <td>1</td>\n",
       "    </tr>\n",
       "    <tr>\n",
       "      <th>1</th>\n",
       "      <td>1</td>\n",
       "      <td>85</td>\n",
       "      <td>66</td>\n",
       "      <td>29</td>\n",
       "      <td>0</td>\n",
       "      <td>26.6</td>\n",
       "      <td>0.351</td>\n",
       "      <td>31</td>\n",
       "      <td>0</td>\n",
       "    </tr>\n",
       "    <tr>\n",
       "      <th>2</th>\n",
       "      <td>8</td>\n",
       "      <td>183</td>\n",
       "      <td>64</td>\n",
       "      <td>0</td>\n",
       "      <td>0</td>\n",
       "      <td>23.3</td>\n",
       "      <td>0.672</td>\n",
       "      <td>32</td>\n",
       "      <td>1</td>\n",
       "    </tr>\n",
       "    <tr>\n",
       "      <th>3</th>\n",
       "      <td>1</td>\n",
       "      <td>89</td>\n",
       "      <td>66</td>\n",
       "      <td>23</td>\n",
       "      <td>94</td>\n",
       "      <td>28.1</td>\n",
       "      <td>0.167</td>\n",
       "      <td>21</td>\n",
       "      <td>0</td>\n",
       "    </tr>\n",
       "    <tr>\n",
       "      <th>4</th>\n",
       "      <td>0</td>\n",
       "      <td>137</td>\n",
       "      <td>40</td>\n",
       "      <td>35</td>\n",
       "      <td>168</td>\n",
       "      <td>43.1</td>\n",
       "      <td>2.288</td>\n",
       "      <td>33</td>\n",
       "      <td>1</td>\n",
       "    </tr>\n",
       "  </tbody>\n",
       "</table>\n",
       "</div>"
      ],
      "text/plain": [
       "   A    B   C   D    E     F      G   H  Label\n",
       "0  6  148  72  35    0  33.6  0.627  50      1\n",
       "1  1   85  66  29    0  26.6  0.351  31      0\n",
       "2  8  183  64   0    0  23.3  0.672  32      1\n",
       "3  1   89  66  23   94  28.1  0.167  21      0\n",
       "4  0  137  40  35  168  43.1  2.288  33      1"
      ]
     },
     "execution_count": 2,
     "metadata": {},
     "output_type": "execute_result"
    }
   ],
   "source": [
    "#Load df\n",
    "pid = pd.read_csv(\"pid.csv\")\n",
    "pid.head()"
   ]
  },
  {
   "cell_type": "markdown",
   "metadata": {},
   "source": [
    "## Split data X and Y (Train and Test)"
   ]
  },
  {
   "cell_type": "code",
   "execution_count": 3,
   "metadata": {},
   "outputs": [],
   "source": [
    "X = pid.iloc[:,0:7].values #predictors\n",
    "y = pid.iloc[:,-1].values #response \n",
    "\n",
    "#Split with 25% in test set\n",
    "X_train, X_test, y_train, y_test = train_test_split(X, y, test_size=0.25)"
   ]
  },
  {
   "cell_type": "code",
   "execution_count": 4,
   "metadata": {},
   "outputs": [
    {
     "name": "stdout",
     "output_type": "stream",
     "text": [
      "576\n",
      "192\n"
     ]
    }
   ],
   "source": [
    "print(len(X_train))\n",
    "print(len(X_test))"
   ]
  },
  {
   "cell_type": "code",
   "execution_count": 5,
   "metadata": {},
   "outputs": [
    {
     "name": "stdout",
     "output_type": "stream",
     "text": [
      "Length of train set 576 , number of responses 199, proportion   0.35\n",
      "Length of test set 192 , number of responses 69, proportion   0.36\n"
     ]
    }
   ],
   "source": [
    "#Proportion of 1 in train\n",
    "print(\"Length of train set %d , number of responses %d, proportion %6.02f\" %(len(y_train), y_train.sum(), y_train.sum() / (len(y_train) )))\n",
    "\n",
    "#Proportion of 1 in test\n",
    "print(\"Length of test set %d , number of responses %d, proportion %6.02f\" %(len(y_test), y_test.sum(), y_test.sum() / (len(y_test) )))"
   ]
  },
  {
   "cell_type": "markdown",
   "metadata": {},
   "source": [
    "## Training Models"
   ]
  },
  {
   "cell_type": "markdown",
   "metadata": {},
   "source": [
    "## Decision Tree\n",
    "\n"
   ]
  },
  {
   "cell_type": "code",
   "execution_count": 6,
   "metadata": {},
   "outputs": [
    {
     "name": "stdout",
     "output_type": "stream",
     "text": [
      "[[99 24]\n",
      " [28 41]]\n"
     ]
    },
    {
     "data": {
      "text/plain": [
       "<sklearn.metrics._plot.confusion_matrix.ConfusionMatrixDisplay at 0x1b6cf02f5b0>"
      ]
     },
     "execution_count": 6,
     "metadata": {},
     "output_type": "execute_result"
    },
    {
     "data": {
      "image/png": "[encoded data removed]",
      "text/plain": [
       "<Figure size 432x288 with 2 Axes>"
      ]
     },
     "metadata": {
      "needs_background": "light"
     },
     "output_type": "display_data"
    }
   ],
   "source": [
    "\n",
    "#Fit Model\n",
    "tree = DecisionTreeClassifier().fit(X_train, y_train)\n",
    "\n",
    "#Predict Values\n",
    "y_pred = tree.predict(X_test)\n",
    "\n",
    "#Confusion Matrix\n",
    "print(confusion_matrix(y_test, y_pred))\n",
    "\n",
    "# Plot non-normalized confusion matrix\n",
    "plot_confusion_matrix(tree, X_test, y_test)"
   ]
  },
  {
   "cell_type": "markdown",
   "metadata": {},
   "source": [
    "## Random Forest"
   ]
  },
  {
   "cell_type": "code",
   "execution_count": 7,
   "metadata": {},
   "outputs": [
    {
     "name": "stdout",
     "output_type": "stream",
     "text": [
      "[[109  14]\n",
      " [ 25  44]]\n"
     ]
    },
    {
     "data": {
      "text/plain": [
       "<sklearn.metrics._plot.confusion_matrix.ConfusionMatrixDisplay at 0x1b6d4599340>"
      ]
     },
     "execution_count": 7,
     "metadata": {},
     "output_type": "execute_result"
    },
    {
     "data": {
      "image/png": "[encoded data removed]",
      "text/plain": [
       "<Figure size 432x288 with 2 Axes>"
      ]
     },
     "metadata": {
      "needs_background": "light"
     },
     "output_type": "display_data"
    }
   ],
   "source": [
    "\n",
    "#Fit Model\n",
    "r_forest = RandomForestClassifier().fit(X_train, y_train)\n",
    "\n",
    "#Predict Values\n",
    "y_pred = r_forest.predict(X_test)\n",
    "\n",
    "#Confusion Matrix\n",
    "print(confusion_matrix(y_test, y_pred))\n",
    "\n",
    "# Plot non-normalized confusion matrix\n",
    "plot_confusion_matrix(r_forest, X_test, y_test)"
   ]
  },
  {
   "cell_type": "code",
   "execution_count": 8,
   "metadata": {},
   "outputs": [],
   "source": [
    "#Tunning Random Forest\n",
    "#clf = RandomForestClassifier(criterion = 'gini', max_leaf_nodes= 8, n_estimators = 100, random_state = 100 )\n",
    "\n",
    "#from sklearn.model_selection import GridSearchCV\n",
    "#parameters = [{'criterion': ['gini', 'entropy'],\n",
    "#               'random_state': [50,70,100,200,250,300,350,400,450,500,550],\n",
    "#               'n_estimators': [100, 200,250, 300, 350,400,500,1000] , \n",
    "#               'max_leaf_nodes': ['None',1,2,3,4,5,6,7,8 ]},\n",
    "#                  ]\n",
    "#grid_search = GridSearchCV(estimator = clf,\n",
    "#                           param_grid = parameters,\n",
    "#                           scoring = 'accuracy',\n",
    "#                           cv = 10,\n",
    "#                           n_jobs = -1)\n",
    "#grid_search = grid_search.fit(X_train, y_train)\n",
    "#best_accuracy = grid_search.best_score_\n",
    "#best_parameters = grid_search.best_params_\n",
    "#print(\"Best Accuracy: {:.2f} %\".format(best_accuracy*100))\n",
    "\n",
    "#print(\"Best Parameters:\", best_parameters)"
   ]
  },
  {
   "cell_type": "markdown",
   "metadata": {},
   "source": [
    "## KNN\n"
   ]
  },
  {
   "cell_type": "code",
   "execution_count": 9,
   "metadata": {},
   "outputs": [
    {
     "name": "stdout",
     "output_type": "stream",
     "text": [
      "[[117   6]\n",
      " [ 47  22]]\n"
     ]
    },
    {
     "data": {
      "text/plain": [
       "<sklearn.metrics._plot.confusion_matrix.ConfusionMatrixDisplay at 0x1b6cf060040>"
      ]
     },
     "execution_count": 9,
     "metadata": {},
     "output_type": "execute_result"
    },
    {
     "data": {
      "image/png": "[encoded data removed]",
      "text/plain": [
       "<Figure size 432x288 with 2 Axes>"
      ]
     },
     "metadata": {
      "needs_background": "light"
     },
     "output_type": "display_data"
    }
   ],
   "source": [
    "#Fit Model\n",
    "knn = KNeighborsClassifier(n_neighbors=2).fit(X_train, y_train)\n",
    "\n",
    "#Predict Values\n",
    "y_pred = knn.predict(X_test)\n",
    "\n",
    "#Confusion Matrix\n",
    "print(confusion_matrix(y_test, y_pred))\n",
    "\n",
    "# Plot non-normalized confusion matrix\n",
    "plot_confusion_matrix(knn, X_test, y_test)"
   ]
  },
  {
   "cell_type": "markdown",
   "metadata": {},
   "source": [
    "## SVM"
   ]
  },
  {
   "cell_type": "code",
   "execution_count": 10,
   "metadata": {},
   "outputs": [
    {
     "name": "stdout",
     "output_type": "stream",
     "text": [
      "Best Accuracy: 75.34 %\n",
      "Best Parameters: {'C': 1, 'kernel': 'linear'}\n"
     ]
    }
   ],
   "source": [
    "#Parameter Tunning\n",
    "from sklearn.svm import SVC\n",
    "classifier = SVC(kernel = 'rbf', random_state = 0)\n",
    "\n",
    "from sklearn.model_selection import GridSearchCV\n",
    "parameters = [{'C': [1, 10, 100, 1000], 'kernel': ['linear']},\n",
    "              {'C': [1, 10, 100, 1000], 'kernel': ['rbf'], 'gamma': [0.1, 0.2, 0.3, 0.4, 0.5, 0.6, 0.7, 0.8, 0.9]}]\n",
    "grid_search = GridSearchCV(estimator = classifier,\n",
    "                           param_grid = parameters,\n",
    "                           scoring = 'accuracy',\n",
    "                           cv = 10,\n",
    "                           n_jobs = -1)\n",
    "grid_search = grid_search.fit(X_train, y_train)\n",
    "best_accuracy = grid_search.best_score_\n",
    "best_parameters = grid_search.best_params_\n",
    "print(\"Best Accuracy: {:.2f} %\".format(best_accuracy*100))\n",
    "\n",
    "print(\"Best Parameters:\", best_parameters)"
   ]
  },
  {
   "cell_type": "markdown",
   "metadata": {},
   "source": [
    "## Logistic Regression"
   ]
  },
  {
   "cell_type": "code",
   "execution_count": 16,
   "metadata": {},
   "outputs": [
    {
     "name": "stdout",
     "output_type": "stream",
     "text": [
      "[[114  17]\n",
      " [ 29  32]]\n",
      "Model LogisticRegression(random_state=100) Acuracy Score 0.76\n",
      "Model LogisticRegression(random_state=100) Precision Score 0.65\n",
      "Scores by each k-fold [0.72727273 0.77922078 0.79220779 0.71428571 0.75324675 0.76623377\n",
      " 0.80519481 0.80519481 0.73684211 0.82894737]\n",
      "AVG Accuracy 0.7708646616541353\n"
     ]
    },
    {
     "data": {
      "image/png": "[encoded data removed]",
      "text/plain": [
       "<Figure size 432x288 with 2 Axes>"
      ]
     },
     "metadata": {
      "needs_background": "light"
     },
     "output_type": "display_data"
    }
   ],
   "source": [
    "#More Models \n",
    "from sklearn.linear_model import LogisticRegression\n",
    "\n",
    "X = pid.iloc[:,0:7].values #predictors\n",
    "y = pid.iloc[:,-1].values #response \n",
    "\n",
    "clf = LogisticRegression(random_state=100).fit(X_train, y_train)\n",
    "\n",
    "#feature scalling\n",
    "scaler = StandardScaler()\n",
    "scaler.fit(X)\n",
    "X = scaler.transform(X)\n",
    "\n",
    "#split Train and Test\n",
    "X_train, X_test, y_train, y_test = train_test_split(X, y, test_size=0.25)\n",
    "\n",
    "#fit model\n",
    "clf.fit(X_train,y_train)\n",
    "\n",
    "#Predict Values\n",
    "y_pred = clf.predict(X_test)\n",
    "\n",
    "#Confusion Matrix\n",
    "print(confusion_matrix(y_test, y_pred))\n",
    "\n",
    "# Plot non-normalized confusion matrix\n",
    "plot_confusion_matrix(clf, X_test, y_test)\n",
    "\n",
    "#Accuracy and Precision\n",
    "print(\"Model\", clf, \"Acuracy Score\", round(accuracy_score(y_test, y_pred),2))\n",
    "print(\"Model\", clf,\"Precision Score\", round(precision_score(y_test, y_pred),2))\n",
    "\n",
    "#Checking with K-Fold validation (Now we use full dataset)\n",
    "scores = cross_val_score(clf, X,y, cv=10, scoring=\"accuracy\")\n",
    "print(\"Scores by each k-fold\", scores)\n",
    "print(\"AVG Accuracy\", scores.mean())\n",
    "\n",
    "log = clf\n"
   ]
  },
  {
   "cell_type": "code",
   "execution_count": 17,
   "metadata": {},
   "outputs": [
    {
     "name": "stdout",
     "output_type": "stream",
     "text": [
      "Best Accuracy: 76.21 %\n",
      "Best Parameters: {'penalty': 'l2', 'random_state': 50, 'solver': 'liblinear'}\n"
     ]
    }
   ],
   "source": [
    "#Tunning LogReg\n",
    "clf = LogisticRegression(random_state=100)\n",
    "\n",
    "\n",
    "\n",
    "from sklearn.model_selection import GridSearchCV\n",
    "parameters = [{ 'penalty': [\"l1\", \"l2\", \"elasticnet\", \"none\"],\n",
    "               'random_state': [50,70,100,200,250,300,350,400,450,500,550],\n",
    "               \"solver\": [\"newton-cg\", \"lbfgs\", \"liblinear\", \"sag\", \"saga\"] },\n",
    "              ]\n",
    "grid_search = GridSearchCV(estimator = clf,\n",
    "                           param_grid = parameters,\n",
    "                           scoring = 'accuracy',\n",
    "                           cv = 10,\n",
    "                           n_jobs = -1)\n",
    "grid_search = grid_search.fit(X_train, y_train)\n",
    "best_accuracy = grid_search.best_score_\n",
    "best_parameters = grid_search.best_params_\n",
    "print(\"Best Accuracy: {:.2f} %\".format(best_accuracy*100))\n",
    "\n",
    "print(\"Best Parameters:\", best_parameters)\n",
    "\n",
    "log = clf"
   ]
  },
  {
   "cell_type": "code",
   "execution_count": 18,
   "metadata": {},
   "outputs": [
    {
     "name": "stdout",
     "output_type": "stream",
     "text": [
      "[[110  21]\n",
      " [ 26  35]]\n",
      "Model GaussianNB() Acuracy Score 0.76\n",
      "Model GaussianNB() Precision Score 0.62\n"
     ]
    },
    {
     "data": {
      "image/png": "[encoded data removed]",
      "text/plain": [
       "<Figure size 432x288 with 2 Axes>"
      ]
     },
     "metadata": {
      "needs_background": "light"
     },
     "output_type": "display_data"
    }
   ],
   "source": [
    "#Naive Bayes\n",
    "from sklearn.naive_bayes import GaussianNB\n",
    "\n",
    "clf = GaussianNB().fit(X_train, y_train)\n",
    "\n",
    "#Predict Values\n",
    "y_pred = clf.predict(X_test)\n",
    "\n",
    "#Confusion Matrix\n",
    "print(confusion_matrix(y_test, y_pred))\n",
    "\n",
    "# Plot non-normalized confusion matrix\n",
    "plot_confusion_matrix(clf, X_test, y_test)\n",
    "\n",
    "#Accuracy and Precision\n",
    "print(\"Model\", clf, \"Acuracy Score\", round(accuracy_score(y_test, y_pred),2))\n",
    "print(\"Model\", clf,\"Precision Score\", round(precision_score(y_test, y_pred),2))\n"
   ]
  },
  {
   "cell_type": "markdown",
   "metadata": {},
   "source": [
    "## xgboost"
   ]
  },
  {
   "cell_type": "code",
   "execution_count": 19,
   "metadata": {},
   "outputs": [
    {
     "name": "stdout",
     "output_type": "stream",
     "text": [
      "[[105  26]\n",
      " [ 24  37]]\n",
      "Model GradientBoostingClassifier(n_estimators=1000, random_state=0) Acuracy Score 0.74\n",
      "Model GradientBoostingClassifier(n_estimators=1000, random_state=0) Precision Score 0.59\n"
     ]
    },
    {
     "data": {
      "image/png": "[encoded data removed]",
      "text/plain": [
       "<Figure size 432x288 with 2 Axes>"
      ]
     },
     "metadata": {
      "needs_background": "light"
     },
     "output_type": "display_data"
    }
   ],
   "source": [
    "import xgboost as xgb\n",
    "from sklearn.ensemble import GradientBoostingClassifier\n",
    "\n",
    "clf=GradientBoostingClassifier(n_estimators=1000,learning_rate=0.1,random_state=0)\n",
    "clf.fit(X_train,y_train)\n",
    "\n",
    "\n",
    "#Predict Values\n",
    "y_pred = clf.predict(X_test)\n",
    "\n",
    "#Confusion Matrix\n",
    "print(confusion_matrix(y_test, y_pred))\n",
    "\n",
    "# Plot non-normalized confusion matrix\n",
    "plot_confusion_matrix(clf, X_test, y_test)\n",
    "\n",
    "#Accuracy and Precision\n",
    "print(\"Model\", clf, \"Acuracy Score\", round(accuracy_score(y_test, y_pred),2))\n",
    "print(\"Model\", clf,\"Precision Score\", round(precision_score(y_test, y_pred),2))\n"
   ]
  },
  {
   "cell_type": "markdown",
   "metadata": {},
   "source": [
    "# Evaluating all models considering Acuracy and Precision\n",
    "\n",
    "## Accuracy = TP + TN / TP + TN + FP + FN\n",
    "## Precision = TP / TP + FP\n"
   ]
  },
  {
   "cell_type": "code",
   "execution_count": 20,
   "metadata": {},
   "outputs": [
    {
     "name": "stdout",
     "output_type": "stream",
     "text": [
      "Model DecisionTreeClassifier() Acuracy Score 0.7\n",
      "Model DecisionTreeClassifier() Precision Score 0.52\n",
      "\n",
      "\n",
      "Model RandomForestClassifier() Acuracy Score 0.77\n",
      "Model RandomForestClassifier() Precision Score 0.64\n",
      "\n",
      "\n",
      "Model KNeighborsClassifier(n_neighbors=2) Acuracy Score 0.72\n",
      "Model KNeighborsClassifier(n_neighbors=2) Precision Score 0.6\n",
      "\n",
      "\n",
      "Model LogisticRegression(random_state=100) Acuracy Score 0.76\n",
      "Model LogisticRegression(random_state=100) Precision Score 0.65\n",
      "\n",
      "\n"
     ]
    }
   ],
   "source": [
    "from sklearn.metrics import accuracy_score\n",
    "from sklearn.metrics import precision_score\n",
    "\n",
    "#Loading all models in a list\n",
    "models = [tree, r_forest, knn, log]\n",
    "acc_models = [] #will be use later to compare with diferent slips\n",
    "prec_models = [] #will be use later to compare with diferent slips\n",
    "for i in range(0,len(models)):\n",
    "    clf = models[i]\n",
    "    clf.fit(X_train, y_train) #fit again the model\n",
    "    \n",
    "    y_pred = clf.predict(X_test)\n",
    "    print(\"Model\", models[i], \"Acuracy Score\", round(accuracy_score(y_test, y_pred),2))\n",
    "    print(\"Model\", models[i],\"Precision Score\", round(precision_score(y_test, y_pred),2))\n",
    "    acc_models.append(accuracy_score(y_test, y_pred))\n",
    "    prec_models.append(precision_score(y_test, y_pred))\n",
    "    print(\"\\n\")"
   ]
  },
  {
   "cell_type": "markdown",
   "metadata": {},
   "source": [
    "# Looking for 0 in columns C,D,E and F"
   ]
  },
  {
   "cell_type": "code",
   "execution_count": 21,
   "metadata": {},
   "outputs": [],
   "source": [
    "pid = pd.read_csv(\"pid.csv\")\n",
    "#pid[(pid[\"C\"] == 0) & (pid[\"D\"] == 0) & (pid[\"E\"] == 0) & (pid[\"F\"] == 0)] = np.nan"
   ]
  },
  {
   "cell_type": "code",
   "execution_count": 22,
   "metadata": {},
   "outputs": [],
   "source": [
    "index = pid[[\"C\", \"D\", \"E\", \"F\"]][(pid[\"C\"]==0)&(pid[\"D\"]==0)&(pid[\"F\"]==0)]\n",
    "cols = [\"C\", \"D\", \"E\", \"F\"]\n",
    "\n",
    "#change just this values in each col to the mean() -> im considering this MCAR\n",
    "for i in range(0,len(cols)):\n",
    "    pid.loc[index.index,cols[i]] = pid.loc[:,cols[i]].mean()"
   ]
  },
  {
   "cell_type": "code",
   "execution_count": 23,
   "metadata": {},
   "outputs": [
    {
     "data": {
      "text/html": [
       "<div>\n",
       "<style scoped>\n",
       "    .dataframe tbody tr th:only-of-type {\n",
       "        vertical-align: middle;\n",
       "    }\n",
       "\n",
       "    .dataframe tbody tr th {\n",
       "        vertical-align: top;\n",
       "    }\n",
       "\n",
       "    .dataframe thead th {\n",
       "        text-align: right;\n",
       "    }\n",
       "</style>\n",
       "<table border=\"1\" class=\"dataframe\">\n",
       "  <thead>\n",
       "    <tr style=\"text-align: right;\">\n",
       "      <th></th>\n",
       "      <th>A</th>\n",
       "      <th>B</th>\n",
       "      <th>C</th>\n",
       "      <th>D</th>\n",
       "      <th>E</th>\n",
       "      <th>F</th>\n",
       "      <th>G</th>\n",
       "      <th>H</th>\n",
       "      <th>Label</th>\n",
       "    </tr>\n",
       "  </thead>\n",
       "  <tbody>\n",
       "    <tr>\n",
       "      <th>49</th>\n",
       "      <td>7</td>\n",
       "      <td>105</td>\n",
       "      <td>69.105469</td>\n",
       "      <td>20.536458</td>\n",
       "      <td>79.799479</td>\n",
       "      <td>31.992578</td>\n",
       "      <td>0.305</td>\n",
       "      <td>24</td>\n",
       "      <td>0</td>\n",
       "    </tr>\n",
       "    <tr>\n",
       "      <th>60</th>\n",
       "      <td>2</td>\n",
       "      <td>84</td>\n",
       "      <td>69.105469</td>\n",
       "      <td>20.536458</td>\n",
       "      <td>79.799479</td>\n",
       "      <td>31.992578</td>\n",
       "      <td>0.304</td>\n",
       "      <td>21</td>\n",
       "      <td>0</td>\n",
       "    </tr>\n",
       "    <tr>\n",
       "      <th>81</th>\n",
       "      <td>2</td>\n",
       "      <td>74</td>\n",
       "      <td>69.105469</td>\n",
       "      <td>20.536458</td>\n",
       "      <td>79.799479</td>\n",
       "      <td>31.992578</td>\n",
       "      <td>0.102</td>\n",
       "      <td>22</td>\n",
       "      <td>0</td>\n",
       "    </tr>\n",
       "    <tr>\n",
       "      <th>426</th>\n",
       "      <td>0</td>\n",
       "      <td>94</td>\n",
       "      <td>69.105469</td>\n",
       "      <td>20.536458</td>\n",
       "      <td>79.799479</td>\n",
       "      <td>31.992578</td>\n",
       "      <td>0.256</td>\n",
       "      <td>25</td>\n",
       "      <td>0</td>\n",
       "    </tr>\n",
       "    <tr>\n",
       "      <th>494</th>\n",
       "      <td>3</td>\n",
       "      <td>80</td>\n",
       "      <td>69.105469</td>\n",
       "      <td>20.536458</td>\n",
       "      <td>79.799479</td>\n",
       "      <td>31.992578</td>\n",
       "      <td>0.174</td>\n",
       "      <td>22</td>\n",
       "      <td>0</td>\n",
       "    </tr>\n",
       "    <tr>\n",
       "      <th>522</th>\n",
       "      <td>6</td>\n",
       "      <td>114</td>\n",
       "      <td>69.105469</td>\n",
       "      <td>20.536458</td>\n",
       "      <td>79.799479</td>\n",
       "      <td>31.992578</td>\n",
       "      <td>0.189</td>\n",
       "      <td>26</td>\n",
       "      <td>0</td>\n",
       "    </tr>\n",
       "    <tr>\n",
       "      <th>706</th>\n",
       "      <td>10</td>\n",
       "      <td>115</td>\n",
       "      <td>69.105469</td>\n",
       "      <td>20.536458</td>\n",
       "      <td>79.799479</td>\n",
       "      <td>31.992578</td>\n",
       "      <td>0.261</td>\n",
       "      <td>30</td>\n",
       "      <td>1</td>\n",
       "    </tr>\n",
       "  </tbody>\n",
       "</table>\n",
       "</div>"
      ],
      "text/plain": [
       "      A    B          C          D          E          F      G   H  Label\n",
       "49    7  105  69.105469  20.536458  79.799479  31.992578  0.305  24      0\n",
       "60    2   84  69.105469  20.536458  79.799479  31.992578  0.304  21      0\n",
       "81    2   74  69.105469  20.536458  79.799479  31.992578  0.102  22      0\n",
       "426   0   94  69.105469  20.536458  79.799479  31.992578  0.256  25      0\n",
       "494   3   80  69.105469  20.536458  79.799479  31.992578  0.174  22      0\n",
       "522   6  114  69.105469  20.536458  79.799479  31.992578  0.189  26      0\n",
       "706  10  115  69.105469  20.536458  79.799479  31.992578  0.261  30      1"
      ]
     },
     "execution_count": 23,
     "metadata": {},
     "output_type": "execute_result"
    }
   ],
   "source": [
    "pid.loc[index.index] "
   ]
  },
  {
   "cell_type": "code",
   "execution_count": 24,
   "metadata": {},
   "outputs": [
    {
     "data": {
      "text/plain": [
       "Label\n",
       "0    500\n",
       "1    268\n",
       "Name: Label, dtype: int64"
      ]
     },
     "execution_count": 24,
     "metadata": {},
     "output_type": "execute_result"
    }
   ],
   "source": [
    "#Lookfing for distribution of responsae classes\n",
    "pid[\"Label\"].groupby(pid['Label']).count()"
   ]
  },
  {
   "cell_type": "code",
   "execution_count": 26,
   "metadata": {},
   "outputs": [],
   "source": [
    "from sklearn.model_selection import StratifiedKFold\n",
    "from sklearn.model_selection import ShuffleSplit\n",
    "\n",
    "X = pid.iloc[:,0:7].values #predictors\n",
    "y = pid.iloc[:,-1].values #response \n",
    "\n",
    "#Split with 25% in test set\n",
    "X_train, X_test, y_train, y_test = train_test_split(X, y, test_size=0.25)\n"
   ]
  },
  {
   "cell_type": "code",
   "execution_count": 27,
   "metadata": {},
   "outputs": [
    {
     "name": "stdout",
     "output_type": "stream",
     "text": [
      "Length of train set 576 , number of responses 198, proportion   0.34\n",
      "Length of test set 192 , number of responses 70, proportion   0.36\n"
     ]
    }
   ],
   "source": [
    "#Proportion of in train\n",
    "print(\"Length of train set %d , number of responses %d, proportion %6.02f\" %(len(y_train), y_train.sum(), y_train.sum() / (len(y_train) )))\n",
    "\n",
    "#Proportion of in test\n",
    "print(\"Length of test set %d , number of responses %d, proportion %6.02f\" %(len(y_test), y_test.sum(), y_test.sum() / (len(y_test) )))"
   ]
  },
  {
   "cell_type": "code",
   "execution_count": 28,
   "metadata": {},
   "outputs": [
    {
     "name": "stdout",
     "output_type": "stream",
     "text": [
      "Model DecisionTreeClassifier() Acuracy Score 0.68\n",
      "Model DecisionTreeClassifier() Precision Score 0.56\n",
      "\n",
      "\n",
      "Model RandomForestClassifier() Acuracy Score 0.73\n",
      "Model RandomForestClassifier() Precision Score 0.69\n",
      "\n",
      "\n",
      "Model KNeighborsClassifier(n_neighbors=2) Acuracy Score 0.7\n",
      "Model KNeighborsClassifier(n_neighbors=2) Precision Score 0.68\n",
      "\n",
      "\n",
      "Model LogisticRegression(random_state=100) Acuracy Score 0.79\n",
      "Model LogisticRegression(random_state=100) Precision Score 0.81\n",
      "\n",
      "\n"
     ]
    }
   ],
   "source": [
    "from sklearn.metrics import accuracy_score\n",
    "\n",
    "#Loading all models in a list\n",
    "models = [tree, r_forest, knn, log]\n",
    "modelsnames = [\"DecisionTree\", \"RandomForest\", \"KNN\", \"LogReg\"]\n",
    "acc_models2 = []\n",
    "prec_models2 = []\n",
    "for i in range(0,len(models)):\n",
    "    clf = models[i]\n",
    "    clf.fit(X_train, y_train) #fit again the model\n",
    "    \n",
    "    y_pred = clf.predict(X_test)\n",
    "    print(\"Model\", models[i], \"Acuracy Score\", round(accuracy_score(y_test, y_pred),2))\n",
    "    print(\"Model\", models[i], \"Precision Score\", round(precision_score(y_test, y_pred),2))\n",
    "    print(\"\\n\")\n",
    "    acc_models2.append(accuracy_score(y_test, y_pred))\n",
    "    prec_models2.append(precision_score(y_test, y_pred))"
   ]
  },
  {
   "cell_type": "code",
   "execution_count": 29,
   "metadata": {},
   "outputs": [
    {
     "data": {
      "text/html": [
       "<div>\n",
       "<style scoped>\n",
       "    .dataframe tbody tr th:only-of-type {\n",
       "        vertical-align: middle;\n",
       "    }\n",
       "\n",
       "    .dataframe tbody tr th {\n",
       "        vertical-align: top;\n",
       "    }\n",
       "\n",
       "    .dataframe thead th {\n",
       "        text-align: right;\n",
       "    }\n",
       "</style>\n",
       "<table border=\"1\" class=\"dataframe\">\n",
       "  <thead>\n",
       "    <tr style=\"text-align: right;\">\n",
       "      <th></th>\n",
       "      <th>DecisionTree</th>\n",
       "      <th>RandomForest</th>\n",
       "      <th>KNN</th>\n",
       "      <th>LogReg</th>\n",
       "    </tr>\n",
       "  </thead>\n",
       "  <tbody>\n",
       "    <tr>\n",
       "      <th>Accuracy_SameSplit</th>\n",
       "      <td>0.677083</td>\n",
       "      <td>0.729167</td>\n",
       "      <td>0.697917</td>\n",
       "      <td>0.791667</td>\n",
       "    </tr>\n",
       "    <tr>\n",
       "      <th>Accuracy</th>\n",
       "      <td>0.697917</td>\n",
       "      <td>0.765625</td>\n",
       "      <td>0.723958</td>\n",
       "      <td>0.760417</td>\n",
       "    </tr>\n",
       "    <tr>\n",
       "      <th>Precision_SameSpli</th>\n",
       "      <td>0.558824</td>\n",
       "      <td>0.687500</td>\n",
       "      <td>0.676471</td>\n",
       "      <td>0.812500</td>\n",
       "    </tr>\n",
       "    <tr>\n",
       "      <th>Precision</th>\n",
       "      <td>0.523077</td>\n",
       "      <td>0.642857</td>\n",
       "      <td>0.600000</td>\n",
       "      <td>0.653061</td>\n",
       "    </tr>\n",
       "  </tbody>\n",
       "</table>\n",
       "</div>"
      ],
      "text/plain": [
       "                    DecisionTree  RandomForest       KNN    LogReg\n",
       "Accuracy_SameSplit      0.677083      0.729167  0.697917  0.791667\n",
       "Accuracy                0.697917      0.765625  0.723958  0.760417\n",
       "Precision_SameSpli      0.558824      0.687500  0.676471  0.812500\n",
       "Precision               0.523077      0.642857  0.600000  0.653061"
      ]
     },
     "execution_count": 29,
     "metadata": {},
     "output_type": "execute_result"
    }
   ],
   "source": [
    "#We improve the acuracy and the precision as well \n",
    "df_split = pd.DataFrame(data=[acc_models2,acc_models, prec_models2, prec_models], columns=modelsnames, index=[\"Accuracy_SameSplit\", \"Accuracy\", \"Precision_SameSpli\", \"Precision\"])\n",
    "df_split"
   ]
  },
  {
   "cell_type": "code",
   "execution_count": null,
   "metadata": {},
   "outputs": [],
   "source": []
  },
  {
   "cell_type": "code",
   "execution_count": null,
   "metadata": {},
   "outputs": [],
   "source": []
  }
 ],
 "metadata": {
  "kernelspec": {
   "display_name": "Python 3",
   "language": "python",
   "name": "python3"
  },
  "language_info": {
   "codemirror_mode": {
    "name": "ipython",
    "version": 3
   },
   "file_extension": ".py",
   "mimetype": "text/x-python",
   "name": "python",
   "nbconvert_exporter": "python",
   "pygments_lexer": "ipython3",
   "version": "3.8.3"
  }
 },
 "nbformat": 4,
 "nbformat_minor": 4
}
