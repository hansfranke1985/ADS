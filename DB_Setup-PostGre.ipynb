{
 "cells": [
  {
   "cell_type": "code",
   "execution_count": 1,
   "metadata": {},
   "outputs": [],
   "source": [
    "# Importing packages\n",
    "import psycopg2\n",
    "import pandas as pd\n",
    "import numpy as np\n",
    "import math"
   ]
  },
  {
   "cell_type": "code",
   "execution_count": 2,
   "metadata": {},
   "outputs": [],
   "source": [
    "#Method to connect to DB\n",
    "def connectDB():\n",
    "    #create a connection\n",
    "    conn = psycopg2.connect(\n",
    "    host=\"localhost\",\n",
    "    database=\"ads\",\n",
    "    user=\"postgres\",\n",
    "    password=\"gremio\")\n",
    "\n",
    "    #create a cursor\n",
    "    cur = conn.cursor()\n",
    "    print(\"Connected\")\n",
    "    return conn, cur"
   ]
  },
  {
   "cell_type": "code",
   "execution_count": 3,
   "metadata": {},
   "outputs": [],
   "source": [
    "#Selecting the data\n",
    "\n",
    "def selectData(sql_select):\n",
    "    #input = Query\n",
    "    cur.execute(sql_select)\n",
    "    data = cur.fetchall()\n",
    "\n",
    "    #showing\n",
    "    #x = input(\"Wanna print the data? Press 1 ==>> ____\")\n",
    "    #if x==1:\n",
    "        #for line in data:\n",
    "            #print(line)\n",
    "    return data"
   ]
  },
  {
   "cell_type": "code",
   "execution_count": 4,
   "metadata": {},
   "outputs": [],
   "source": [
    "#Select all Tables Names\n",
    "def selectTables(t_schema):\n",
    "    s = \"\"\n",
    "    s += \"SELECT\"\n",
    "    s += \" table_schema\"\n",
    "    s += \", table_name\"\n",
    "    s += \" FROM information_schema.tables\"\n",
    "    s += \" WHERE\"\n",
    "    s += \" (\"\n",
    "    s += \" table_schema = 'public'\"\n",
    "    s += \" )\"\n",
    "    s += \" ORDER BY table_schema, table_name;\"\n",
    "    \n",
    "    cur.execute(s)\n",
    "    list_tables = cur.fetchall()\n",
    "\n",
    "\n",
    "    return list_tables    \n",
    "\n"
   ]
  },
  {
   "cell_type": "code",
   "execution_count": 5,
   "metadata": {},
   "outputs": [
    {
     "name": "stdout",
     "output_type": "stream",
     "text": [
      "Connected\n"
     ]
    },
    {
     "data": {
      "text/plain": [
       "[('public', 'bbc'),\n",
       " ('public', 'eteam'),\n",
       " ('public', 'game'),\n",
       " ('public', 'goal'),\n",
       " ('public', 'hans'),\n",
       " ('public', 'movies'),\n",
       " ('public', 'nobel'),\n",
       " ('public', 'test'),\n",
       " ('public', 'world')]"
      ]
     },
     "execution_count": 5,
     "metadata": {},
     "output_type": "execute_result"
    }
   ],
   "source": [
    "conn, cur = connectDB()\n",
    "selectTables('public')\n"
   ]
  },
  {
   "cell_type": "code",
   "execution_count": 6,
   "metadata": {},
   "outputs": [],
   "source": [
    "#closing cursor and connections\n",
    "cur.close()\n",
    "conn.close()"
   ]
  },
  {
   "cell_type": "code",
   "execution_count": 7,
   "metadata": {},
   "outputs": [
    {
     "name": "stdout",
     "output_type": "stream",
     "text": [
      "Connected\n"
     ]
    }
   ],
   "source": [
    "#Putting all tables into DF\n",
    "conn, cur = connectDB()\n",
    "\n",
    "tables = selectTables('public')\n",
    "list_tables = []\n",
    "\n",
    "for i,v in tables:\n",
    "    #print(i)\n",
    "    #print(v)\n",
    "    list_tables.append(v) #put only table name, not schema name\n",
    "\n"
   ]
  },
  {
   "cell_type": "code",
   "execution_count": 8,
   "metadata": {},
   "outputs": [
    {
     "data": {
      "text/plain": [
       "['bbc', 'eteam', 'game', 'goal', 'hans', 'movies', 'nobel', 'test', 'world']"
      ]
     },
     "execution_count": 8,
     "metadata": {},
     "output_type": "execute_result"
    }
   ],
   "source": [
    "list_tables"
   ]
  },
  {
   "cell_type": "code",
   "execution_count": 9,
   "metadata": {},
   "outputs": [
    {
     "name": "stdout",
     "output_type": "stream",
     "text": [
      "Connected\n",
      "Connected\n",
      "Connected\n",
      "Connected\n",
      "Connected\n",
      "Connected\n",
      "Connected\n",
      "Connected\n",
      "Connected\n"
     ]
    }
   ],
   "source": [
    "#put all tables on a list of DataFrames\n",
    "list_df = []\n",
    "for i in range(0,len(list_tables)):\n",
    "    conn, cur = connectDB()\n",
    "    sql_query = \"SELECT * from %s\" %(list_tables[i])\n",
    "    #print(sql_query)\n",
    "    data = selectData(sql_query) #use the query to find data\n",
    "    \n",
    "    colnames = [desc[0] for desc in cur.description]\n",
    "    df = pd.DataFrame(data, columns=colnames)\n",
    "    list_df.append(df)\n",
    "    cur.close()\n",
    "    conn.close()"
   ]
  },
  {
   "cell_type": "code",
   "execution_count": 10,
   "metadata": {},
   "outputs": [
    {
     "name": "stdout",
     "output_type": "stream",
     "text": [
      "Index(['name', 'region', 'area', 'population', 'gdp'], dtype='object')\n",
      "Index(['id', 'teamname', 'coach'], dtype='object')\n",
      "Index(['id', 'mdate', 'stadium', 'team1', 'team2'], dtype='object')\n",
      "Index(['matchid', 'teamid', 'player', 'gtime'], dtype='object')\n",
      "Index(['name', 'continent', 'area', 'gdp', 'capital', 'tld', 'flag'], dtype='object')\n",
      "Index(['color', 'director_name', 'num_critic_for_reviews', 'duration',\n",
      "       'director_facebook_likes', 'actor_3_facebook_likes', 'actor_2_name',\n",
      "       'actor_1_facebook_likes', 'gross', 'genres', 'actor_1_name',\n",
      "       'movie_title', 'num_voted_users', 'cast_total_facebook_likes',\n",
      "       'actor_3_name', 'facenumber_in_poster', 'plot_keywords',\n",
      "       'movie_imdb_link', 'num_user_for_reviews', 'language', 'country',\n",
      "       'content_rating', 'budget', 'title_year', 'actor_2_facebook_likes',\n",
      "       'imdb_score', 'aspect_ratio', 'movie_facebook_likes'],\n",
      "      dtype='object')\n",
      "Index(['yr', 'subject', 'winner'], dtype='object')\n",
      "Index(['name', 'id'], dtype='object')\n",
      "Index(['name', 'continent', 'area', 'population', 'gdp', 'capital', 'tld',\n",
      "       'flag'],\n",
      "      dtype='object')\n"
     ]
    }
   ],
   "source": [
    "#showing columns of all DF imported\n",
    "for i in range(0,len(list_df)):\n",
    "    print(list_df[i].columns)"
   ]
  },
  {
   "cell_type": "code",
   "execution_count": 11,
   "metadata": {},
   "outputs": [
    {
     "data": {
      "text/html": [
       "<div>\n",
       "<style scoped>\n",
       "    .dataframe tbody tr th:only-of-type {\n",
       "        vertical-align: middle;\n",
       "    }\n",
       "\n",
       "    .dataframe tbody tr th {\n",
       "        vertical-align: top;\n",
       "    }\n",
       "\n",
       "    .dataframe thead th {\n",
       "        text-align: right;\n",
       "    }\n",
       "</style>\n",
       "<table border=\"1\" class=\"dataframe\">\n",
       "  <thead>\n",
       "    <tr style=\"text-align: right;\">\n",
       "      <th></th>\n",
       "      <th>name</th>\n",
       "      <th>region</th>\n",
       "      <th>area</th>\n",
       "      <th>population</th>\n",
       "      <th>gdp</th>\n",
       "    </tr>\n",
       "  </thead>\n",
       "  <tbody>\n",
       "    <tr>\n",
       "      <th>0</th>\n",
       "      <td>Albania</td>\n",
       "      <td>Europe</td>\n",
       "      <td>28728</td>\n",
       "      <td>3200000.0</td>\n",
       "      <td>6.656000e+09</td>\n",
       "    </tr>\n",
       "    <tr>\n",
       "      <th>1</th>\n",
       "      <td>Algeria</td>\n",
       "      <td>Middle East</td>\n",
       "      <td>2400000</td>\n",
       "      <td>32900000.0</td>\n",
       "      <td>7.501200e+10</td>\n",
       "    </tr>\n",
       "    <tr>\n",
       "      <th>2</th>\n",
       "      <td>Andorra</td>\n",
       "      <td>Europe</td>\n",
       "      <td>468</td>\n",
       "      <td>64000.0</td>\n",
       "      <td>NaN</td>\n",
       "    </tr>\n",
       "    <tr>\n",
       "      <th>3</th>\n",
       "      <td>Angola</td>\n",
       "      <td>Africa</td>\n",
       "      <td>1250000</td>\n",
       "      <td>14500000.0</td>\n",
       "      <td>1.493500e+10</td>\n",
       "    </tr>\n",
       "    <tr>\n",
       "      <th>4</th>\n",
       "      <td>Antigua and Barbuda</td>\n",
       "      <td>Americas</td>\n",
       "      <td>442</td>\n",
       "      <td>77000.0</td>\n",
       "      <td>7.700000e+08</td>\n",
       "    </tr>\n",
       "    <tr>\n",
       "      <th>...</th>\n",
       "      <td>...</td>\n",
       "      <td>...</td>\n",
       "      <td>...</td>\n",
       "      <td>...</td>\n",
       "      <td>...</td>\n",
       "    </tr>\n",
       "    <tr>\n",
       "      <th>187</th>\n",
       "      <td>Venezuela</td>\n",
       "      <td>South America</td>\n",
       "      <td>881050</td>\n",
       "      <td>26600000.0</td>\n",
       "      <td>NaN</td>\n",
       "    </tr>\n",
       "    <tr>\n",
       "      <th>188</th>\n",
       "      <td>Vietnam</td>\n",
       "      <td>Asia-Pacific</td>\n",
       "      <td>329247</td>\n",
       "      <td>83600000.0</td>\n",
       "      <td>4.598000e+10</td>\n",
       "    </tr>\n",
       "    <tr>\n",
       "      <th>189</th>\n",
       "      <td>Yemen</td>\n",
       "      <td>Middle East</td>\n",
       "      <td>536869</td>\n",
       "      <td>21500000.0</td>\n",
       "      <td>1.225500e+10</td>\n",
       "    </tr>\n",
       "    <tr>\n",
       "      <th>190</th>\n",
       "      <td>Zambia</td>\n",
       "      <td>Africa</td>\n",
       "      <td>752614</td>\n",
       "      <td>11000000.0</td>\n",
       "      <td>4.950000e+09</td>\n",
       "    </tr>\n",
       "    <tr>\n",
       "      <th>191</th>\n",
       "      <td>Zimbabwe</td>\n",
       "      <td>Africa</td>\n",
       "      <td>390759</td>\n",
       "      <td>12900000.0</td>\n",
       "      <td>6.192000e+09</td>\n",
       "    </tr>\n",
       "  </tbody>\n",
       "</table>\n",
       "<p>192 rows × 5 columns</p>\n",
       "</div>"
      ],
      "text/plain": [
       "                    name         region     area  population           gdp\n",
       "0                Albania         Europe    28728   3200000.0  6.656000e+09\n",
       "1                Algeria    Middle East  2400000  32900000.0  7.501200e+10\n",
       "2                Andorra         Europe      468     64000.0           NaN\n",
       "3                 Angola         Africa  1250000  14500000.0  1.493500e+10\n",
       "4    Antigua and Barbuda       Americas      442     77000.0  7.700000e+08\n",
       "..                   ...            ...      ...         ...           ...\n",
       "187            Venezuela  South America   881050  26600000.0           NaN\n",
       "188              Vietnam   Asia-Pacific   329247  83600000.0  4.598000e+10\n",
       "189                Yemen    Middle East   536869  21500000.0  1.225500e+10\n",
       "190               Zambia         Africa   752614  11000000.0  4.950000e+09\n",
       "191             Zimbabwe         Africa   390759  12900000.0  6.192000e+09\n",
       "\n",
       "[192 rows x 5 columns]"
      ]
     },
     "execution_count": 11,
     "metadata": {},
     "output_type": "execute_result"
    }
   ],
   "source": [
    "list_df[0] #picking first DF"
   ]
  },
  {
   "cell_type": "code",
   "execution_count": 26,
   "metadata": {},
   "outputs": [
    {
     "name": "stdout",
     "output_type": "stream",
     "text": [
      "Connected\n",
      "Connected\n"
     ]
    }
   ],
   "source": [
    "# Script to Manipulate DB\n",
    "conn, cur = connectDB()\n",
    "\n",
    "select = \" SELECT * from public.hans\"\n",
    "\n",
    "query = \"\"\"CREATE TABLE public.hans\n",
    "                     (\n",
    "                    name text,\n",
    "                    continent text,\n",
    "                    area float,\n",
    "                    gdp float,\n",
    "                    capital text,\n",
    "                    tld text,\n",
    "                    flag text\n",
    "\n",
    "                );\"\"\"\n",
    "\n",
    "alter_table = \"\"\" ALTER TABLE public.hans\n",
    "                                    (\n",
    "                                    ADD franke integer\n",
    "                                    \n",
    "                                    );\n",
    "\n",
    "\n",
    "\"\"\"\n",
    "\n",
    "insert_values = \"\"\" INSERT INTO public.hans (name, continent, area, gdp, capital, tld, flag)\n",
    "                    VALUES ( 'Nathi', 'test', 20 , 30, 'Aracatuba', 'xx', 'great' )\n",
    "                    \n",
    "                \"\"\"\n",
    "\n",
    "conn, cur = connectDB() #connect with DB\n",
    "\n",
    "cur.execute(insert_values)\n",
    "cur.close()\n",
    "conn.commit()\n",
    "conn.close()\n"
   ]
  },
  {
   "cell_type": "code",
   "execution_count": 27,
   "metadata": {},
   "outputs": [
    {
     "name": "stdout",
     "output_type": "stream",
     "text": [
      "Connected\n"
     ]
    },
    {
     "data": {
      "text/plain": [
       "[('Nathi', 'test', 20.0, 30.0, 'Aracatuba', 'xx', 'great'),\n",
       " ('Nathi', 'test', 20.0, 30.0, 'Aracatuba', 'xx', 'great'),\n",
       " ('Nathi', 'test', 20.0, 30.0, 'Aracatuba', 'xx', 'great')]"
      ]
     },
     "execution_count": 27,
     "metadata": {},
     "output_type": "execute_result"
    }
   ],
   "source": [
    "conn, cur = connectDB() #connect with DB\n",
    "\n",
    "data = selectData(select)\n",
    "\n",
    "cur.close()\n",
    "conn.commit()\n",
    "conn.close()\n",
    "data"
   ]
  },
  {
   "cell_type": "code",
   "execution_count": null,
   "metadata": {},
   "outputs": [],
   "source": []
  },
  {
   "cell_type": "code",
   "execution_count": null,
   "metadata": {},
   "outputs": [],
   "source": []
  }
 ],
 "metadata": {
  "kernelspec": {
   "display_name": "Python 3",
   "language": "python",
   "name": "python3"
  },
  "language_info": {
   "codemirror_mode": {
    "name": "ipython",
    "version": 3
   },
   "file_extension": ".py",
   "mimetype": "text/x-python",
   "name": "python",
   "nbconvert_exporter": "python",
   "pygments_lexer": "ipython3",
   "version": "3.8.3"
  }
 },
 "nbformat": 4,
 "nbformat_minor": 4
}
