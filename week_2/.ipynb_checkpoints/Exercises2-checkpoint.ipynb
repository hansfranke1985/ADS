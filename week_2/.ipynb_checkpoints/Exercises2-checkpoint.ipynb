{
 "cells": [
  {
   "cell_type": "markdown",
   "metadata": {},
   "source": [
    "## SQL Querys\n"
   ]
  },
  {
   "cell_type": "code",
   "execution_count": 7,
   "metadata": {},
   "outputs": [],
   "source": [
    "# Importing packages\n",
    "import psycopg2\n",
    "import pandas as pd\n",
    "import numpy as np\n",
    "from pandasql import sqldf # helpfull to query and use pandas df to results\n"
   ]
  },
  {
   "cell_type": "code",
   "execution_count": 4,
   "metadata": {},
   "outputs": [],
   "source": [
    "## Base funcions\n",
    "\n",
    "#Method to connect to DB\n",
    "def connectDB():\n",
    "    #create a connection\n",
    "    conn = psycopg2.connect(\n",
    "    host=\"localhost\",\n",
    "    database=\"ads\",\n",
    "    user=\"postgres\",\n",
    "    password=\"gremio\")\n",
    "\n",
    "    #create a cursor\n",
    "    cur = conn.cursor()\n",
    "    print(\"Connected\")\n",
    "    return conn, cur\n",
    "\n",
    "#Selecting the data\n",
    "\n",
    "def selectData(sql_select):\n",
    "    #input = Query\n",
    "    cur.execute(sql_select)\n",
    "    data = cur.fetchall()\n",
    "\n",
    "    #showing\n",
    "    #x = input(\"Wanna print the data? Press 1 ==>> ____\")\n",
    "    #if x==1:\n",
    "        #for line in data:\n",
    "            #print(line)\n",
    "    return data\n",
    "\n"
   ]
  },
  {
   "cell_type": "markdown",
   "metadata": {},
   "source": [
    "\n",
    "\n",
    "\n",
    "create table Students ( sid integer , name text, major text, top_credits integer, gpa real, primary key (sid)  )\n",
    "\n",
    "\n",
    "CREATE TYPE semester AS ENUM ('Q1', 'Q2', 'Q3', 'Q4');\n",
    "\n",
    "create table Enrolled\n",
    "( sid integer ,\n",
    " semester semester,\n",
    " cid integer, \n",
    " year integer check(year > 2000),\n",
    " grade integer, \n",
    " primary key (cid, sid, semester, year), \n",
    " foreign key (sid) references Students )\n",
    "\n",
    "create table Course (cid integer, title text, dept_name text, credits integer, primary key (cid))\n",
    "\n",
    "insert into Students (\n",
    "\tValues (1, 'Hans', 'ADS', 20, 4) )\n",
    "\t\n",
    "insert into Enrolled (\n",
    "\tValues (1, 'Q1', 1, 2001, 20) )\n",
    "\t\n",
    "\n",
    "insert into Course values(1, 'ADS', 'Comp Science', 20)\n",
    "\n"
   ]
  },
  {
   "cell_type": "code",
   "execution_count": null,
   "metadata": {},
   "outputs": [],
   "source": [
    "\n",
    "# Define a lambda function to translate your SQL queries to Python\n",
    "pysqldf = lambda q: sqldf(q, globals())\n",
    "# Play with your data using SQL. Change the value of the variable 'query' to yield different results\n",
    "query = 'select * from world'\n",
    "pysqldf(query)"
   ]
  },
  {
   "cell_type": "code",
   "execution_count": 12,
   "metadata": {},
   "outputs": [
    {
     "name": "stdout",
     "output_type": "stream",
     "text": [
      "Connected\n"
     ]
    }
   ],
   "source": [
    "conn, cur = connectDB()\n",
    "data = selectData('select * from world')"
   ]
  },
  {
   "cell_type": "code",
   "execution_count": null,
   "metadata": {},
   "outputs": [],
   "source": []
  }
 ],
 "metadata": {
  "kernelspec": {
   "display_name": "Python 3",
   "language": "python",
   "name": "python3"
  },
  "language_info": {
   "codemirror_mode": {
    "name": "ipython",
    "version": 3
   },
   "file_extension": ".py",
   "mimetype": "text/x-python",
   "name": "python",
   "nbconvert_exporter": "python",
   "pygments_lexer": "ipython3",
   "version": "3.8.3"
  }
 },
 "nbformat": 4,
 "nbformat_minor": 4
}
