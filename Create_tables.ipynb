{
 "cells": [
  {
   "cell_type": "markdown",
   "metadata": {},
   "source": [
    "## Creating Tables in Postgree by some random Datasets"
   ]
  },
  {
   "cell_type": "code",
   "execution_count": 1,
   "metadata": {},
   "outputs": [],
   "source": [
    "# Importing packages\n",
    "import psycopg2\n",
    "import pandas as pd\n"
   ]
  },
  {
   "cell_type": "code",
   "execution_count": 2,
   "metadata": {},
   "outputs": [],
   "source": [
    "#Method to connect to DB\n",
    "def connectDB():\n",
    "    #create a connection\n",
    "    conn = psycopg2.connect(\n",
    "    host=\"localhost\",\n",
    "    database=\"dvdrental\",\n",
    "    user=\"postgres\",\n",
    "    password=\"gremio\")\n",
    "\n",
    "    #create a cursor\n",
    "    cur = conn.cursor()\n",
    "    print(\"Connected\")\n",
    "    return conn, cur\n",
    "\n",
    "#Selecting the data\n",
    "\n",
    "def selectData(sql_select):\n",
    "    #input = Query\n",
    "    cur.execute(sql_select)\n",
    "    data = cur.fetchall()\n",
    "\n",
    "    #showing\n",
    "    #x = input(\"Wanna print the data? Press 1 ==>> ____\")\n",
    "    #if x==1:\n",
    "        #for line in data:\n",
    "            #print(line)\n",
    "    return data\n"
   ]
  },
  {
   "cell_type": "code",
   "execution_count": 9,
   "metadata": {},
   "outputs": [],
   "source": [
    "#Importing datasets\n",
    "\n",
    "bbc = pd.read_csv(r\"C:\\Users\\hansf\\Documents\\GitHub\\ADS\\datasets\\bbc.csv\")\n",
    "eteam = bbc = pd.read_csv(r\"C:\\Users\\hansf\\Documents\\GitHub\\ADS\\datasets\\eteam.csv\", encoding='iso8859_2')\n"
   ]
  },
  {
   "cell_type": "code",
   "execution_count": 10,
   "metadata": {},
   "outputs": [],
   "source": [
    "def createTables():\n",
    "    pass"
   ]
  },
  {
   "cell_type": "code",
   "execution_count": null,
   "metadata": {},
   "outputs": [],
   "source": []
  }
 ],
 "metadata": {
  "kernelspec": {
   "display_name": "Python 3",
   "language": "python",
   "name": "python3"
  },
  "language_info": {
   "codemirror_mode": {
    "name": "ipython",
    "version": 3
   },
   "file_extension": ".py",
   "mimetype": "text/x-python",
   "name": "python",
   "nbconvert_exporter": "python",
   "pygments_lexer": "ipython3",
   "version": "3.8.3"
  }
 },
 "nbformat": 4,
 "nbformat_minor": 4
}
