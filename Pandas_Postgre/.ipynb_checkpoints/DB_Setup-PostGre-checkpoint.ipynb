{
 "cells": [
  {
   "cell_type": "code",
   "execution_count": 84,
   "metadata": {},
   "outputs": [],
   "source": [
    "# Importing packages\n",
    "import psycopg2\n",
    "import pandas as pd"
   ]
  },
  {
   "cell_type": "code",
   "execution_count": 85,
   "metadata": {},
   "outputs": [],
   "source": [
    "#Method to connect to DB\n",
    "def connectDB():\n",
    "    #create a connection\n",
    "    conn = psycopg2.connect(\n",
    "    host=\"localhost\",\n",
    "    database=\"dvdrental\",\n",
    "    user=\"postgres\",\n",
    "    password=\"gremio\")\n",
    "\n",
    "    #create a cursor\n",
    "    cur = conn.cursor()\n",
    "    print(\"Connected\")\n",
    "    return conn, cur"
   ]
  },
  {
   "cell_type": "code",
   "execution_count": 86,
   "metadata": {},
   "outputs": [],
   "source": [
    "#Selecting the data\n",
    "\n",
    "def selectData(sql_select):\n",
    "    #input = Query\n",
    "    cur.execute(sql_select)\n",
    "    data = cur.fetchall()\n",
    "\n",
    "    #showing\n",
    "    #x = input(\"Wanna print the data? Press 1 ==>> ____\")\n",
    "    #if x==1:\n",
    "        #for line in data:\n",
    "            #print(line)\n",
    "    return data"
   ]
  },
  {
   "cell_type": "code",
   "execution_count": 87,
   "metadata": {},
   "outputs": [],
   "source": [
    "#Select all Tables Names\n",
    "def selectTables(t_schema):\n",
    "    s = \"\"\n",
    "    s += \"SELECT\"\n",
    "    s += \" table_schema\"\n",
    "    s += \", table_name\"\n",
    "    s += \" FROM information_schema.tables\"\n",
    "    s += \" WHERE\"\n",
    "    s += \" (\"\n",
    "    s += \" table_schema = 'public'\"\n",
    "    s += \" )\"\n",
    "    s += \" ORDER BY table_schema, table_name;\"\n",
    "    \n",
    "    cur.execute(s)\n",
    "    list_tables = cur.fetchall()\n",
    "\n",
    "\n",
    "    return list_tables    \n",
    "\n"
   ]
  },
  {
   "cell_type": "code",
   "execution_count": 88,
   "metadata": {},
   "outputs": [
    {
     "name": "stdout",
     "output_type": "stream",
     "text": [
      "Connected\n"
     ]
    },
    {
     "data": {
      "text/plain": [
       "[('public', 'actor'),\n",
       " ('public', 'actor_info'),\n",
       " ('public', 'address'),\n",
       " ('public', 'category'),\n",
       " ('public', 'city'),\n",
       " ('public', 'country'),\n",
       " ('public', 'customer'),\n",
       " ('public', 'customer_list'),\n",
       " ('public', 'film'),\n",
       " ('public', 'film_actor'),\n",
       " ('public', 'film_category'),\n",
       " ('public', 'film_list'),\n",
       " ('public', 'inventory'),\n",
       " ('public', 'language'),\n",
       " ('public', 'nicer_but_slower_film_list'),\n",
       " ('public', 'payment'),\n",
       " ('public', 'rental'),\n",
       " ('public', 'sales_by_film_category'),\n",
       " ('public', 'sales_by_store'),\n",
       " ('public', 'staff'),\n",
       " ('public', 'staff_list'),\n",
       " ('public', 'store')]"
      ]
     },
     "execution_count": 88,
     "metadata": {},
     "output_type": "execute_result"
    }
   ],
   "source": [
    "conn, cur = connectDB()\n",
    "selectTables('public')"
   ]
  },
  {
   "cell_type": "code",
   "execution_count": 89,
   "metadata": {},
   "outputs": [],
   "source": [
    "#closing cursor and connections\n",
    "cur.close()\n",
    "conn.close()"
   ]
  },
  {
   "cell_type": "code",
   "execution_count": 90,
   "metadata": {},
   "outputs": [
    {
     "name": "stdout",
     "output_type": "stream",
     "text": [
      "Connected\n"
     ]
    }
   ],
   "source": [
    "#Putting all tables into DF\n",
    "conn, cur = connectDB()\n",
    "\n",
    "tables = selectTables('public')\n",
    "list_tables = []\n",
    "\n",
    "for i,v in tables:\n",
    "    #print(i)\n",
    "    #print(v)\n",
    "    list_tables.append(v) #put only table name, not schema name\n",
    "\n"
   ]
  },
  {
   "cell_type": "code",
   "execution_count": 91,
   "metadata": {},
   "outputs": [
    {
     "data": {
      "text/plain": [
       "['actor',\n",
       " 'actor_info',\n",
       " 'address',\n",
       " 'category',\n",
       " 'city',\n",
       " 'country',\n",
       " 'customer',\n",
       " 'customer_list',\n",
       " 'film',\n",
       " 'film_actor',\n",
       " 'film_category',\n",
       " 'film_list',\n",
       " 'inventory',\n",
       " 'language',\n",
       " 'nicer_but_slower_film_list',\n",
       " 'payment',\n",
       " 'rental',\n",
       " 'sales_by_film_category',\n",
       " 'sales_by_store',\n",
       " 'staff',\n",
       " 'staff_list',\n",
       " 'store']"
      ]
     },
     "execution_count": 91,
     "metadata": {},
     "output_type": "execute_result"
    }
   ],
   "source": [
    "list_tables"
   ]
  },
  {
   "cell_type": "code",
   "execution_count": 92,
   "metadata": {},
   "outputs": [
    {
     "name": "stdout",
     "output_type": "stream",
     "text": [
      "Connected\n",
      "Connected\n",
      "Connected\n",
      "Connected\n",
      "Connected\n",
      "Connected\n",
      "Connected\n",
      "Connected\n",
      "Connected\n",
      "Connected\n",
      "Connected\n",
      "Connected\n",
      "Connected\n",
      "Connected\n",
      "Connected\n",
      "Connected\n",
      "Connected\n",
      "Connected\n",
      "Connected\n",
      "Connected\n",
      "Connected\n",
      "Connected\n"
     ]
    }
   ],
   "source": [
    "#put all tables on a list of DataFrames\n",
    "list_df = []\n",
    "for i in range(0,len(list_tables)):\n",
    "    conn, cur = connectDB()\n",
    "    sql_query = \"SELECT * from %s\" %(list_tables[i])\n",
    "    #print(sql_query)\n",
    "    data = selectData(sql_query) #use the query to find data\n",
    "    \n",
    "    colnames = [desc[0] for desc in cur.description]\n",
    "    df = pd.DataFrame(data, columns=colnames)\n",
    "    list_df.append(df)\n",
    "    cur.close()\n",
    "    conn.close()"
   ]
  },
  {
   "cell_type": "code",
   "execution_count": 93,
   "metadata": {},
   "outputs": [
    {
     "data": {
      "text/plain": [
       "22"
      ]
     },
     "execution_count": 93,
     "metadata": {},
     "output_type": "execute_result"
    }
   ],
   "source": [
    "len(list_df)"
   ]
  },
  {
   "cell_type": "code",
   "execution_count": 100,
   "metadata": {},
   "outputs": [
    {
     "data": {
      "text/html": [
       "<div>\n",
       "<style scoped>\n",
       "    .dataframe tbody tr th:only-of-type {\n",
       "        vertical-align: middle;\n",
       "    }\n",
       "\n",
       "    .dataframe tbody tr th {\n",
       "        vertical-align: top;\n",
       "    }\n",
       "\n",
       "    .dataframe thead th {\n",
       "        text-align: right;\n",
       "    }\n",
       "</style>\n",
       "<table border=\"1\" class=\"dataframe\">\n",
       "  <thead>\n",
       "    <tr style=\"text-align: right;\">\n",
       "      <th></th>\n",
       "      <th>actor_id</th>\n",
       "      <th>first_name</th>\n",
       "      <th>last_name</th>\n",
       "      <th>last_update</th>\n",
       "    </tr>\n",
       "  </thead>\n",
       "  <tbody>\n",
       "    <tr>\n",
       "      <th>0</th>\n",
       "      <td>1</td>\n",
       "      <td>Penelope</td>\n",
       "      <td>Guiness</td>\n",
       "      <td>2013-05-26 14:47:57.620</td>\n",
       "    </tr>\n",
       "    <tr>\n",
       "      <th>1</th>\n",
       "      <td>2</td>\n",
       "      <td>Nick</td>\n",
       "      <td>Wahlberg</td>\n",
       "      <td>2013-05-26 14:47:57.620</td>\n",
       "    </tr>\n",
       "    <tr>\n",
       "      <th>2</th>\n",
       "      <td>3</td>\n",
       "      <td>Ed</td>\n",
       "      <td>Chase</td>\n",
       "      <td>2013-05-26 14:47:57.620</td>\n",
       "    </tr>\n",
       "    <tr>\n",
       "      <th>3</th>\n",
       "      <td>4</td>\n",
       "      <td>Jennifer</td>\n",
       "      <td>Davis</td>\n",
       "      <td>2013-05-26 14:47:57.620</td>\n",
       "    </tr>\n",
       "    <tr>\n",
       "      <th>4</th>\n",
       "      <td>5</td>\n",
       "      <td>Johnny</td>\n",
       "      <td>Lollobrigida</td>\n",
       "      <td>2013-05-26 14:47:57.620</td>\n",
       "    </tr>\n",
       "    <tr>\n",
       "      <th>...</th>\n",
       "      <td>...</td>\n",
       "      <td>...</td>\n",
       "      <td>...</td>\n",
       "      <td>...</td>\n",
       "    </tr>\n",
       "    <tr>\n",
       "      <th>195</th>\n",
       "      <td>196</td>\n",
       "      <td>Bela</td>\n",
       "      <td>Walken</td>\n",
       "      <td>2013-05-26 14:47:57.620</td>\n",
       "    </tr>\n",
       "    <tr>\n",
       "      <th>196</th>\n",
       "      <td>197</td>\n",
       "      <td>Reese</td>\n",
       "      <td>West</td>\n",
       "      <td>2013-05-26 14:47:57.620</td>\n",
       "    </tr>\n",
       "    <tr>\n",
       "      <th>197</th>\n",
       "      <td>198</td>\n",
       "      <td>Mary</td>\n",
       "      <td>Keitel</td>\n",
       "      <td>2013-05-26 14:47:57.620</td>\n",
       "    </tr>\n",
       "    <tr>\n",
       "      <th>198</th>\n",
       "      <td>199</td>\n",
       "      <td>Julia</td>\n",
       "      <td>Fawcett</td>\n",
       "      <td>2013-05-26 14:47:57.620</td>\n",
       "    </tr>\n",
       "    <tr>\n",
       "      <th>199</th>\n",
       "      <td>200</td>\n",
       "      <td>Thora</td>\n",
       "      <td>Temple</td>\n",
       "      <td>2013-05-26 14:47:57.620</td>\n",
       "    </tr>\n",
       "  </tbody>\n",
       "</table>\n",
       "<p>200 rows × 4 columns</p>\n",
       "</div>"
      ],
      "text/plain": [
       "     actor_id first_name     last_name             last_update\n",
       "0           1   Penelope       Guiness 2013-05-26 14:47:57.620\n",
       "1           2       Nick      Wahlberg 2013-05-26 14:47:57.620\n",
       "2           3         Ed         Chase 2013-05-26 14:47:57.620\n",
       "3           4   Jennifer         Davis 2013-05-26 14:47:57.620\n",
       "4           5     Johnny  Lollobrigida 2013-05-26 14:47:57.620\n",
       "..        ...        ...           ...                     ...\n",
       "195       196       Bela        Walken 2013-05-26 14:47:57.620\n",
       "196       197      Reese          West 2013-05-26 14:47:57.620\n",
       "197       198       Mary        Keitel 2013-05-26 14:47:57.620\n",
       "198       199      Julia       Fawcett 2013-05-26 14:47:57.620\n",
       "199       200      Thora        Temple 2013-05-26 14:47:57.620\n",
       "\n",
       "[200 rows x 4 columns]"
      ]
     },
     "execution_count": 100,
     "metadata": {},
     "output_type": "execute_result"
    }
   ],
   "source": [
    "list_df[0] #picking first DF"
   ]
  },
  {
   "cell_type": "code",
   "execution_count": 107,
   "metadata": {},
   "outputs": [
    {
     "data": {
      "text/html": [
       "<div>\n",
       "<style scoped>\n",
       "    .dataframe tbody tr th:only-of-type {\n",
       "        vertical-align: middle;\n",
       "    }\n",
       "\n",
       "    .dataframe tbody tr th {\n",
       "        vertical-align: top;\n",
       "    }\n",
       "\n",
       "    .dataframe thead th {\n",
       "        text-align: right;\n",
       "    }\n",
       "</style>\n",
       "<table border=\"1\" class=\"dataframe\">\n",
       "  <thead>\n",
       "    <tr style=\"text-align: right;\">\n",
       "      <th></th>\n",
       "      <th>store_id</th>\n",
       "      <th>manager_staff_id</th>\n",
       "      <th>address_id</th>\n",
       "      <th>last_update</th>\n",
       "    </tr>\n",
       "  </thead>\n",
       "  <tbody>\n",
       "    <tr>\n",
       "      <th>0</th>\n",
       "      <td>1</td>\n",
       "      <td>1</td>\n",
       "      <td>1</td>\n",
       "      <td>2006-02-15 09:57:12</td>\n",
       "    </tr>\n",
       "    <tr>\n",
       "      <th>1</th>\n",
       "      <td>2</td>\n",
       "      <td>2</td>\n",
       "      <td>2</td>\n",
       "      <td>2006-02-15 09:57:12</td>\n",
       "    </tr>\n",
       "  </tbody>\n",
       "</table>\n",
       "</div>"
      ],
      "text/plain": [
       "   store_id  manager_staff_id  address_id         last_update\n",
       "0         1                 1           1 2006-02-15 09:57:12\n",
       "1         2                 2           2 2006-02-15 09:57:12"
      ]
     },
     "execution_count": 107,
     "metadata": {},
     "output_type": "execute_result"
    }
   ],
   "source": [
    "list_df[-1] #picking last DF"
   ]
  },
  {
   "cell_type": "code",
   "execution_count": 96,
   "metadata": {},
   "outputs": [
    {
     "name": "stdout",
     "output_type": "stream",
     "text": [
      "Connected\n",
      "Connected\n"
     ]
    },
    {
     "data": {
      "text/html": [
       "<div>\n",
       "<style scoped>\n",
       "    .dataframe tbody tr th:only-of-type {\n",
       "        vertical-align: middle;\n",
       "    }\n",
       "\n",
       "    .dataframe tbody tr th {\n",
       "        vertical-align: top;\n",
       "    }\n",
       "\n",
       "    .dataframe thead th {\n",
       "        text-align: right;\n",
       "    }\n",
       "</style>\n",
       "<table border=\"1\" class=\"dataframe\">\n",
       "  <thead>\n",
       "    <tr style=\"text-align: right;\">\n",
       "      <th></th>\n",
       "      <th>actor_id</th>\n",
       "      <th>first_name</th>\n",
       "      <th>last_name</th>\n",
       "      <th>last_update</th>\n",
       "    </tr>\n",
       "  </thead>\n",
       "  <tbody>\n",
       "    <tr>\n",
       "      <th>0</th>\n",
       "      <td>1</td>\n",
       "      <td>Penelope</td>\n",
       "      <td>Guiness</td>\n",
       "      <td>2013-05-26 14:47:57.620</td>\n",
       "    </tr>\n",
       "    <tr>\n",
       "      <th>1</th>\n",
       "      <td>2</td>\n",
       "      <td>Nick</td>\n",
       "      <td>Wahlberg</td>\n",
       "      <td>2013-05-26 14:47:57.620</td>\n",
       "    </tr>\n",
       "    <tr>\n",
       "      <th>2</th>\n",
       "      <td>3</td>\n",
       "      <td>Ed</td>\n",
       "      <td>Chase</td>\n",
       "      <td>2013-05-26 14:47:57.620</td>\n",
       "    </tr>\n",
       "    <tr>\n",
       "      <th>3</th>\n",
       "      <td>4</td>\n",
       "      <td>Jennifer</td>\n",
       "      <td>Davis</td>\n",
       "      <td>2013-05-26 14:47:57.620</td>\n",
       "    </tr>\n",
       "    <tr>\n",
       "      <th>4</th>\n",
       "      <td>5</td>\n",
       "      <td>Johnny</td>\n",
       "      <td>Lollobrigida</td>\n",
       "      <td>2013-05-26 14:47:57.620</td>\n",
       "    </tr>\n",
       "    <tr>\n",
       "      <th>...</th>\n",
       "      <td>...</td>\n",
       "      <td>...</td>\n",
       "      <td>...</td>\n",
       "      <td>...</td>\n",
       "    </tr>\n",
       "    <tr>\n",
       "      <th>195</th>\n",
       "      <td>196</td>\n",
       "      <td>Bela</td>\n",
       "      <td>Walken</td>\n",
       "      <td>2013-05-26 14:47:57.620</td>\n",
       "    </tr>\n",
       "    <tr>\n",
       "      <th>196</th>\n",
       "      <td>197</td>\n",
       "      <td>Reese</td>\n",
       "      <td>West</td>\n",
       "      <td>2013-05-26 14:47:57.620</td>\n",
       "    </tr>\n",
       "    <tr>\n",
       "      <th>197</th>\n",
       "      <td>198</td>\n",
       "      <td>Mary</td>\n",
       "      <td>Keitel</td>\n",
       "      <td>2013-05-26 14:47:57.620</td>\n",
       "    </tr>\n",
       "    <tr>\n",
       "      <th>198</th>\n",
       "      <td>199</td>\n",
       "      <td>Julia</td>\n",
       "      <td>Fawcett</td>\n",
       "      <td>2013-05-26 14:47:57.620</td>\n",
       "    </tr>\n",
       "    <tr>\n",
       "      <th>199</th>\n",
       "      <td>200</td>\n",
       "      <td>Thora</td>\n",
       "      <td>Temple</td>\n",
       "      <td>2013-05-26 14:47:57.620</td>\n",
       "    </tr>\n",
       "  </tbody>\n",
       "</table>\n",
       "<p>200 rows × 4 columns</p>\n",
       "</div>"
      ],
      "text/plain": [
       "     actor_id first_name     last_name             last_update\n",
       "0           1   Penelope       Guiness 2013-05-26 14:47:57.620\n",
       "1           2       Nick      Wahlberg 2013-05-26 14:47:57.620\n",
       "2           3         Ed         Chase 2013-05-26 14:47:57.620\n",
       "3           4   Jennifer         Davis 2013-05-26 14:47:57.620\n",
       "4           5     Johnny  Lollobrigida 2013-05-26 14:47:57.620\n",
       "..        ...        ...           ...                     ...\n",
       "195       196       Bela        Walken 2013-05-26 14:47:57.620\n",
       "196       197      Reese          West 2013-05-26 14:47:57.620\n",
       "197       198       Mary        Keitel 2013-05-26 14:47:57.620\n",
       "198       199      Julia       Fawcett 2013-05-26 14:47:57.620\n",
       "199       200      Thora        Temple 2013-05-26 14:47:57.620\n",
       "\n",
       "[200 rows x 4 columns]"
      ]
     },
     "execution_count": 96,
     "metadata": {},
     "output_type": "execute_result"
    }
   ],
   "source": [
    "#example connection just in one table\n",
    "conn, cur = connectDB()\n",
    "\n",
    "# Querys #Select\n",
    "sql_select = \"select * from actor\"\n",
    "\n",
    "connectDB() #connect with DB\n",
    "\n",
    "data = selectData(sql_select) #use the query to find data\n",
    "colnames = [desc[0] for desc in cur.description]\n",
    "df = pd.DataFrame(data, columns = colnames)\n",
    "\n",
    "\n",
    "df"
   ]
  },
  {
   "cell_type": "code",
   "execution_count": 95,
   "metadata": {},
   "outputs": [
    {
     "name": "stdout",
     "output_type": "stream",
     "text": [
      "Connected\n",
      "None\n"
     ]
    }
   ],
   "source": []
  },
  {
   "cell_type": "code",
   "execution_count": null,
   "metadata": {},
   "outputs": [],
   "source": []
  }
 ],
 "metadata": {
  "kernelspec": {
   "display_name": "Python 3",
   "language": "python",
   "name": "python3"
  },
  "language_info": {
   "codemirror_mode": {
    "name": "ipython",
    "version": 3
   },
   "file_extension": ".py",
   "mimetype": "text/x-python",
   "name": "python",
   "nbconvert_exporter": "python",
   "pygments_lexer": "ipython3",
   "version": "3.8.3"
  }
 },
 "nbformat": 4,
 "nbformat_minor": 4
}
